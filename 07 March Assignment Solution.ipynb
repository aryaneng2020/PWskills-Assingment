{
 "cells": [
  {
   "cell_type": "code",
   "execution_count": null,
   "id": "b364b7eb-b352-43af-9be4-b9566a218e55",
   "metadata": {},
   "outputs": [],
   "source": [
    "#07 March Assignment Solution"
   ]
  },
  {
   "cell_type": "code",
   "execution_count": null,
   "id": "4af4dd74-b829-4795-8ce3-91e7e6b2dff5",
   "metadata": {},
   "outputs": [],
   "source": [
    "#Ans 1:\n",
    "\n",
    "'''\n",
    "The three measures of central tendency are:\n",
    "\n",
    "1.Mean: The mean, also known as the average, is calculated by summing up all the values in a dataset and dividing by the number of values. \n",
    "It represents the typical value of the dataset and is sensitive to extreme values.\n",
    "\n",
    "2.Median: The median is the middle value in a dataset when the values are arranged in ascending or descending order. \n",
    "If there is an even number of values, the median is the average of the two middle values. \n",
    "The median is less sensitive to extreme values compared to the mean.\n",
    "\n",
    "3.Mode: The mode is the value that appears most frequently in a dataset. It represents the most common value or values in the dataset.\n",
    "A dataset can have one mode (unimodal), two modes (bimodal), or more than two modes (multimodal). Unlike the mean and median, \n",
    "the mode can be used for both numerical and categorical data.\n",
    "\n",
    "'''"
   ]
  },
  {
   "cell_type": "code",
   "execution_count": null,
   "id": "6f4f29f3-c496-4f17-a0f4-5b5d64e67f3e",
   "metadata": {},
   "outputs": [],
   "source": [
    "#ANS 2:\n",
    "'''\n",
    "While the mean, median, and mode all provide measures of central tendency, they differ in their calculations and sensitivity to outliers. \n",
    "The mean is influenced by the magnitude of values, the median is based on the position of values, \n",
    "and the mode is determined bythe frequency of values. \n",
    "The choice of measure depends on the distribution of the data and the presence of outliers.\n",
    "'''\n",
    "#Example:\n",
    "import numpy as np\n",
    "import pandas as pd\n",
    "\n",
    "data = [10, 20, 30, 40, 50]\n",
    "mean = np.mean(data)\n",
    "print(\"Mean:\", mean)\n",
    "\n",
    "median = np.median(data)\n",
    "print(\"Median:\", median)\n",
    "\n",
    "\n",
    "data = [10, 20, 30, 20, 40, 30, 50, 20]\n",
    "mode = pd.Series(data).mode()[0]\n",
    "print(\"Mode:\", mode)\n",
    "\n"
   ]
  },
  {
   "cell_type": "code",
   "execution_count": null,
   "id": "0b2bd7d0-3442-4dc1-869c-cab99bacf203",
   "metadata": {},
   "outputs": [],
   "source": [
    "#Ans 3:\n",
    "import numpy as np\n",
    "import pandas as pd\n",
    "\n",
    "data = [178,177,176,177,178.2,178,175,179,180,175,178.9,176.2,177,172.5,178,176.5]\n",
    "\n",
    "mean = np.mean(data)\n",
    "print(\"Mean:\", mean)\n",
    "\n",
    "median = np.median(data)\n",
    "print(\"Median:\", median)\n",
    "\n",
    "mode = pd.Series(data).mode()[0]\n",
    "print(\"Mode:\", mode)\n"
   ]
  },
  {
   "cell_type": "code",
   "execution_count": null,
   "id": "46f5d35c-82f2-44b8-a2e3-fd726e23c19a",
   "metadata": {},
   "outputs": [],
   "source": [
    "#Ans 4:\n",
    "import numpy as np\n",
    "\n",
    "data = [178, 177, 176, 177, 178.2, 178, 175, 179, 180, 175, 178.9, 176.2, 177, 172.5, 178, 176.5]\n",
    "std_deviation = np.std(data)\n",
    "print(\"Standard Deviation:\", std_deviation)"
   ]
  },
  {
   "cell_type": "code",
   "execution_count": null,
   "id": "c256db36-5a73-44ed-94da-7b3edac4a62a",
   "metadata": {},
   "outputs": [],
   "source": [
    "#Ans 5:\n",
    "'''\n",
    "Range:\n",
    "To calculate the range of a dataset, you simply subtract the minimum value from the maximum value.\n",
    "Example:\n",
    "'''\n",
    "\n",
    "data = [70, 75, 80, 85, 90]\n",
    "data_range = max(data) - min(data)\n",
    "print(\"Range:\", data_range)\n",
    "\n",
    "'''\n",
    "Variance and Standard Deviation:\n",
    "we can use the numpy library to calculate both variance and standard deviation.\n",
    "Example:\n",
    "'''\n",
    "import numpy as np\n",
    "\n",
    "data = [70, 75, 80, 85, 90]\n",
    "variance = np.var(data)\n",
    "std_deviation = np.std(data)\n",
    "\n",
    "print(\"Variance:\", variance)\n",
    "print(\"Standard Deviation:\", std_deviation)"
   ]
  },
  {
   "attachments": {
    "d9475ec8-b2c2-416e-b34d-fdd601de21aa.png": {
     "image/png": "[encoded data removed]"
    }
   },
   "cell_type": "markdown",
   "id": "d9ecd60a-6542-4cca-b8f7-0eeb18814ce9",
   "metadata": {},
   "source": [
    "![image.png](attachment:d9475ec8-b2c2-416e-b34d-fdd601de21aa.png)"
   ]
  },
  {
   "cell_type": "code",
   "execution_count": null,
   "id": "feed42a0-9485-4d70-aa31-aca1a665f22b",
   "metadata": {},
   "outputs": [],
   "source": [
    "#Ans 6:\n",
    "'''\n",
    "A Venn diagram uses overlapping circles or other shapes to illustrate the logical relationships between two or more sets of items. \n",
    "Often, they serve to graphically organize things, highlighting how the items are similar and different.\n",
    "'''"
   ]
  },
  {
   "cell_type": "code",
   "execution_count": null,
   "id": "ddbf4e52-38e5-41eb-b29b-1100d7523325",
   "metadata": {},
   "outputs": [],
   "source": [
    "#Ans 7:\n",
    "A = {2, 3, 4, 5, 6, 7}\n",
    "B = {0, 2, 6, 8, 10}\n",
    "\n",
    "intersection = A.intersection(B)\n",
    "print(\"Intersection (A ∩ B):\", intersection)\n",
    "\n",
    "union = A.union(B)\n",
    "print(\"Union (A ∪ B):\", union)\n"
   ]
  },
  {
   "cell_type": "code",
   "execution_count": null,
   "id": "637d8a1b-529d-4a8a-b92d-a007a4c1ca9e",
   "metadata": {},
   "outputs": [],
   "source": [
    "#Ans 8:\n",
    "'''\n",
    "Skewness is a measurement of the distortion of symmetrical distribution or asymmetry in a data set. \n",
    "Skewness is demonstrated on a bell curve when data points are not distributed symmetrically to the left and right sides of the median on a bell curve.\n",
    "'''"
   ]
  },
  {
   "cell_type": "code",
   "execution_count": null,
   "id": "11ab0527-1e00-45ca-86f5-e9e31158782d",
   "metadata": {},
   "outputs": [],
   "source": [
    "#Ans 9:\n",
    "'''\n",
    "In a right-skewed distribution, the median is typically smaller than the mean, and it is positioned closer to the lower end of the distribution.\n",
    "'''"
   ]
  },
  {
   "cell_type": "code",
   "execution_count": null,
   "id": "717a39f0-89f6-48da-8ae6-f978910070ba",
   "metadata": {},
   "outputs": [],
   "source": [
    "#Ans 10:\n",
    "'''\n",
    "Covariance indicates the direction of the linear relationship between variables while correlation measures\n",
    "both the strength and direction of the linear relationship between two variables. Correlation is a function of the covariance\n",
    "\n",
    "In statistical analysis:\n",
    "\n",
    "1.Covariance is used to assess the direction of the relationship between variables and to identify whether they tend \n",
    "to move together or in opposite directions.\n",
    "2.Correlation is used to quantify the strength and direction of the linear relationship between variables. \n",
    "It is widely used to analyze relationships between variables in various fields such as finance, economics, psychology, and social sciences.\n",
    "3.Both covariance and correlation are valuable tools for understanding and analyzing relationships between variables, \n",
    "but correlation is preferred in many cases due to its standardized interpretation and ease of comparison across different datasets.\n",
    "'''\n"
   ]
  },
  {
   "cell_type": "code",
   "execution_count": null,
   "id": "9234c05c-91d5-4728-b551-afa7c00ccfd2",
   "metadata": {},
   "outputs": [],
   "source": [
    "#Ans 11:\n",
    "\n",
    "'''\n",
    "The general sample mean formula for calculating the sample mean is expressed as x̄ = ( Σ xi ) ÷ n. \n",
    "Here, x̄ denotes the average value of the samples or sample mean, xi refers all X sample values and \n",
    "'n' stands for the number of sample terms in the given data.\n",
    "'''\n",
    "data = [10, 15, 20, 25, 30]\n",
    "\n",
    "sample_mean = sum(data) / len(data)\n",
    "\n",
    "print(\"Sample Mean:\", sample_mean)"
   ]
  },
  {
   "cell_type": "code",
   "execution_count": null,
   "id": "915790e3-f31e-49bb-b13d-3982049e4285",
   "metadata": {},
   "outputs": [],
   "source": [
    "#Ans 12:\n",
    "'''\n",
    "For a normal distribution, the measures of central tendency (mean, median, and mode) \n",
    "are all equal and located at the center of the distribution, reflecting the symmetrical nature of the distribution.\n",
    "'''"
   ]
  },
  {
   "cell_type": "code",
   "execution_count": null,
   "id": "2874a991-6ca0-48d2-9cda-a421db54bc0e",
   "metadata": {},
   "outputs": [],
   "source": [
    "#Ans 13:\n",
    "'''\n",
    "While both covariance and correlation measure the relationship between two variables, correlation provides a standardized measure of \n",
    "the strength and direction of the relationship, making it more interpretable and easier to compare across different datasets.\n",
    "'''"
   ]
  },
  {
   "cell_type": "code",
   "execution_count": null,
   "id": "e4e448c3-ce10-4ba5-bf1f-0ee29c2cf4a6",
   "metadata": {},
   "outputs": [],
   "source": [
    "#Ans 14:\n",
    "'''Outliers can significantly affect measures of central tendency and dispersion, skewing their values and providing misleading\n",
    "summaries of the dataset. Here's how outliers impact these measures:\n",
    "\n",
    "1.Measures of Central Tendency:\n",
    "\n",
    "-->Outliers can significantly influence the mean, pulling it towards their extreme values.\n",
    "-->However, outliers have less impact on the median, as it represents the middle value and is less affected by extreme values.\n",
    "-->Outliers may also affect the mode, especially in small datasets, by introducing new values with higher frequencies.\n",
    "\n",
    "2.Measures of Dispersion:\n",
    "\n",
    "-->Outliers can inflate the variance and standard deviation, as these measures are based on the squared deviations from the mean. \n",
    "-->Outliers with large deviations can increase the overall variance and standard deviation of the dataset.\n",
    "-->Outliers can also widen the range of the dataset, as the range is sensitive to extreme values.\n",
    "'''\n",
    "import numpy as np\n",
    "\n",
    "data = [10, 20, 30, 40, 50, 1000]\n",
    "\n",
    "mean = np.mean(data)\n",
    "median = np.median(data)\n",
    "variance = np.var(data)\n",
    "std_deviation = np.std(data)\n",
    "data_range = np.ptp(data)\n",
    "\n",
    "# Print results\n",
    "print(\"Mean:\", mean)\n",
    "print(\"Median:\", median)\n",
    "print(\"Variance:\", variance)\n",
    "print(\"Standard Deviation:\", std_deviation)\n",
    "print(\"Range:\", data_range)"
   ]
  },
  {
   "cell_type": "code",
   "execution_count": null,
   "id": "d80af9fe-108b-4153-a909-15022532db04",
   "metadata": {},
   "outputs": [],
   "source": []
  }
 ],
 "metadata": {
  "kernelspec": {
   "display_name": "Python 3 (ipykernel)",
   "language": "python",
   "name": "python3"
  },
  "language_info": {
   "codemirror_mode": {
    "name": "ipython",
    "version": 3
   },
   "file_extension": ".py",
   "mimetype": "text/x-python",
   "name": "python",
   "nbconvert_exporter": "python",
   "pygments_lexer": "ipython3",
   "version": "3.10.8"
  }
 },
 "nbformat": 4,
 "nbformat_minor": 5
}
