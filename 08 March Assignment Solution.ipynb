{
 "cells": [
  {
   "cell_type": "code",
   "execution_count": null,
   "id": "876c6d21-54c3-43bb-b972-e6fa65d59738",
   "metadata": {},
   "outputs": [],
   "source": [
    "#08 March Assignment Solution"
   ]
  },
  {
   "cell_type": "code",
   "execution_count": null,
   "id": "40aeb0a1-7818-457c-9b69-713149c87065",
   "metadata": {},
   "outputs": [],
   "source": [
    "#Ans 1:\n",
    "'''\n",
    "The Probability Density Function(PDF) defines the probability function representing the density \n",
    "of a continuous random variable lying between a specific range of values. \n",
    "In other words, the probability density function produces the likelihood of values of the continuous random variable.\n",
    "'''"
   ]
  },
  {
   "attachments": {
    "7755e861-6e57-40a1-aecb-af6102fa0229.png": {
     "image/png": "[encoded data removed]"
    }
   },
   "cell_type": "markdown",
   "id": "63d67514-7eab-407c-a1e4-f39ad34a7a19",
   "metadata": {},
   "source": [
    "![image.png](attachment:7755e861-6e57-40a1-aecb-af6102fa0229.png)"
   ]
  },
  {
   "cell_type": "code",
   "execution_count": null,
   "id": "1530105c-7f59-473a-8157-9c69a82bf563",
   "metadata": {},
   "outputs": [],
   "source": [
    "#Ans 2:\n",
    "'''\n",
    "Probability distributions are categorized into several types, each representing different patterns of variability in data. \n",
    "Some common types of probability distributions include:\n",
    "\n",
    "1.Discrete Probability Distributions:\n",
    "\n",
    "Bernoulli Distribution: Models the probability of success or failure in a single experiment with two possible outcomes.\n",
    "Binomial Distribution: Describes the number of successes in a fixed number of independent Bernoulli trials.\n",
    "Poisson Distribution: Models the number of events occurring in a fixed interval of time or space, given a known average rate of occurrence.\n",
    "\n",
    "2.Continuous Probability Distributions:\n",
    "\n",
    "Normal Distribution (Gaussian Distribution): Characterized by a symmetric, bell-shaped curve and is widely used in statistics due to the central limit theorem.\n",
    "Uniform Distribution: Represents a constant probability over a range of values, with all intervals of the same length having the same probability.\n",
    "Exponential Distribution: Models the time between events in a Poisson process, where events occur continuously and independently at a constant average rate.\n",
    "Gamma Distribution: Generalizes the exponential distribution and is often used to model waiting times or durations.\n",
    "Beta Distribution: Describes the probability distribution of probabilities when the parameters of the distribution are unknown but can be estimated from the data.\n",
    "\n",
    "3.Mixed Probability Distributions:\n",
    "\n",
    "Poisson-Gamma Distribution: Combines a Poisson distribution with a gamma distribution and is used for modeling count data with overdispersion.\n",
    "Normal-Gamma Distribution: Combines a normal distribution with a gamma distribution and is used for Bayesian inference and hierarchical modeling.\n",
    "'''"
   ]
  },
  {
   "cell_type": "code",
   "execution_count": null,
   "id": "e0b41851-642a-4195-bf47-6ee77d6dec64",
   "metadata": {},
   "outputs": [],
   "source": [
    "#Ans 3:\n",
    "import math\n",
    "\n",
    "def normal_pdf(x, mean, std_dev):\n",
    "    coefficient = 1 / (math.sqrt(2 * math.pi) * std_dev)\n",
    "    exponent = -((x - mean) ** 2) / (2 * std_dev ** 2)\n",
    "    pdf_value = coefficient * math.exp(exponent)\n",
    "    return pdf_value\n",
    "\n",
    "mean = 0 \n",
    "std_dev = 1  \n",
    "x = 1  \n",
    "\n",
    "pdf = normal_pdf(x, mean, std_dev)\n",
    "print(\"PDF at x =\", x, \":\", pdf)"
   ]
  },
  {
   "cell_type": "code",
   "execution_count": null,
   "id": "2a9db952-eca0-4619-a36e-b75befc4b5f0",
   "metadata": {},
   "outputs": [],
   "source": [
    "#Ans 4:\n",
    "'''\n",
    "The binomial distribution is a discrete probability distribution that models the number of successes in a fixed number of independent \n",
    "Bernoulli trials, where each trial has only two possible outcomes: success or failure. \n",
    "The key properties of the binomial distribution are as follows:\n",
    "\n",
    "1.Fixed Number of Trials: The number of trials, denoted by n, is fixed in advance.\n",
    "2.Independent Trials: Each trial is independent of the others.\n",
    "3.Two Possible Outcomes: Each trial results in one of two possible outcomes, typically labeled as success (S) or failure (F).\n",
    "4.Constant Probability of Success: The probability of success, denoted by p, remains constant for each trial.\n",
    "5.Discrete Distribution: The binomial distribution is a discrete distribution, meaning it describes the probability of discrete outcomes (specific numbers of successes) rather than continuous outcomes.\n",
    "\n",
    "Examples of events where the binomial distribution can be applied include:\n",
    "\n",
    "1.Coin Flipping:\n",
    "Suppose you flip a fair coin 10 times and count the number of heads (successes).\n",
    "Each flip of the coin is an independent trial with two possible outcomes: heads or tails. \n",
    "The probability of getting heads on any given flip is 0.5 (assuming the coin is fair).\n",
    "The binomial distribution can be used to calculate the probability of getting a certain number of heads (successes) out of the 10 flips.\n",
    "\n",
    "2.Manufacturing Quality Control:\n",
    "\n",
    "A factory produces light bulbs, and the quality control team samples 100 bulbs to test whether they meet\n",
    "a certain standard of durability. Each bulb is either considered to meet the standard (success) or fail to meet the standard (failure). \n",
    "The probability of a bulb meeting the standard is known, and each bulb is tested independently. \n",
    "The binomial distribution can be used to calculate the probability of obtaining a certain number of bulbs\n",
    "that meet the standard out of the 100 sampled bulbs.\n",
    "'''"
   ]
  },
  {
   "cell_type": "code",
   "execution_count": null,
   "id": "a3e67f34-81ea-4705-bab2-53f52945c47e",
   "metadata": {},
   "outputs": [],
   "source": [
    "#Ans 5:\n",
    "import numpy as np\n",
    "import matplotlib.pyplot as plt\n",
    "\n",
    "n = 1000  # Number of trials\n",
    "p = 0.4   # Probability of success\n",
    "\n",
    "sample = np.random.binomial(n, p, size=1000)\n",
    "\n",
    "# Plot histogram\n",
    "plt.hist(sample, bins=20, color='skyblue', edgecolor='black')\n",
    "plt.title('Histogram of Binomial Distribution')\n",
    "plt.xlabel('Number of Successes')\n",
    "plt.ylabel('Frequency')\n",
    "plt.grid(True)\n",
    "plt.show()"
   ]
  },
  {
   "cell_type": "code",
   "execution_count": null,
   "id": "9d6a4803-8174-4cdf-b0d9-343ca7f9c07f",
   "metadata": {},
   "outputs": [],
   "source": [
    "#Ans 6:\n",
    "import math\n",
    "\n",
    "def poisson_cdf(k, lam):\n",
    "    cdf = 0\n",
    "    for i in range(k + 1):\n",
    "        cdf += (math.exp(-lam) * (lam ** i)) / math.factorial(i)\n",
    "    return cdf\n",
    "\n",
    "# Example usage\n",
    "lam = 3  # Mean (lambda) of the Poisson distribution\n",
    "k = 2    # Point at which to evaluate the CDF\n",
    "\n",
    "cdf = poisson_cdf(k, lam)\n",
    "print(\"CDF at k =\", k, \":\", cdf)"
   ]
  },
  {
   "cell_type": "code",
   "execution_count": null,
   "id": "2cec5452-5703-47df-949f-38d345567c63",
   "metadata": {},
   "outputs": [],
   "source": [
    "#Ans 7:\n",
    "'''\n",
    "While both the binomial distribution and the Poisson distribution are used to model discrete random variables, \n",
    "they differ in their assumptions, characteristics, and applications based on the nature of the events being studied.\n",
    "'''"
   ]
  },
  {
   "cell_type": "code",
   "execution_count": null,
   "id": "d8cc96af-1f69-4ea1-b63b-2a9e29d7e410",
   "metadata": {},
   "outputs": [],
   "source": [
    "#Ans 8:\n",
    "import numpy as np\n",
    "\n",
    "mean = 5\n",
    "sample_size = 1000\n",
    "\n",
    "# Generate random sample from Poisson distribution\n",
    "sample = np.random.poisson(mean, size=sample_size)\n",
    "\n",
    "# Calculate sample mean and variance\n",
    "sample_mean = np.mean(sample)\n",
    "sample_variance = np.var(sample)\n",
    "\n",
    "print(\"Sample Mean:\", sample_mean)\n",
    "print(\"Sample Variance:\", sample_variance)"
   ]
  },
  {
   "cell_type": "code",
   "execution_count": null,
   "id": "86ae03cd-529c-44ca-ae8d-2b12884a96c6",
   "metadata": {},
   "outputs": [],
   "source": [
    "#Ans 9:\n",
    "'''\n",
    "In a binomial distribution, there are only two possible outcomes, i.e. success or failure. \n",
    "Conversely,there are an unlimited number of possible outcomes in the case of poisson distribution.\n",
    "In binomial distribution Mean > Variance while in poisson distribution mean = variance.\n",
    "'''\n"
   ]
  },
  {
   "cell_type": "code",
   "execution_count": null,
   "id": "360e3ce1-e368-43bd-bddf-4eff44b6835d",
   "metadata": {},
   "outputs": [],
   "source": [
    "#Ans 10:\n",
    "'''\n",
    "In a normal distribution, the least frequent data appears at the tails of the distribution, farthest away from the mean.\n",
    "'''"
   ]
  }
 ],
 "metadata": {
  "kernelspec": {
   "display_name": "Python 3 (ipykernel)",
   "language": "python",
   "name": "python3"
  },
  "language_info": {
   "codemirror_mode": {
    "name": "ipython",
    "version": 3
   },
   "file_extension": ".py",
   "mimetype": "text/x-python",
   "name": "python",
   "nbconvert_exporter": "python",
   "pygments_lexer": "ipython3",
   "version": "3.10.8"
  }
 },
 "nbformat": 4,
 "nbformat_minor": 5
}
