{
 "cells": [
  {
   "cell_type": "code",
   "execution_count": 1,
   "id": "bbedbf1e-c912-4bee-9584-51a9bd9035ec",
   "metadata": {},
   "outputs": [],
   "source": [
    "#20March Assignment Solution"
   ]
  },
  {
   "cell_type": "code",
   "execution_count": null,
   "id": "a259ead9-8127-4a08-a801-d412093b5721",
   "metadata": {},
   "outputs": [],
   "source": [
    "#ANS 1:\n",
    "'''\n",
    "Data encoding is the process of converting categorical data into numerical format so that it can be used for machine learning algorithms. \n",
    "\n",
    "In data science, data encoding is useful because many machine learning algorithms require numerical input data.\n",
    "By encoding categorical variables into numerical representations, we enable these algorithms to effectively process and analyze the data. \n",
    "Data encoding allows us to retain the valuable information contained in categorical variables while making\n",
    "it compatible with machine learning models.\n",
    "\n",
    "'''"
   ]
  },
  {
   "cell_type": "code",
   "execution_count": 2,
   "id": "56ebad5e-97ba-4494-b553-718f15e48781",
   "metadata": {},
   "outputs": [
    {
     "name": "stdout",
     "output_type": "stream",
     "text": [
      "Original colors: ['red', 'blue', 'green', 'red', 'green']\n",
      "Encoded colors: [2 0 1 2 1]\n"
     ]
    }
   ],
   "source": [
    "#Ans 2:\n",
    "'''\n",
    "Nominal encoding, also known as label encoding, is a technique used to convert categorical variables into numerical labels. \n",
    "Each unique category is assigned a unique integer value. \n",
    "\n",
    "For example, in a dataset containing a \"color\" feature with \n",
    "categories like \"red,\" \"blue,\" and \"green,\" we can encode these categories as 0, 1, and 2, respectively. \n",
    "Nominal encoding is useful when the categorical variables have a natural ordering or hierarchy.\n",
    "'''\n",
    "from sklearn.preprocessing import LabelEncoder\n",
    "\n",
    "# Sample data\n",
    "colors = ['red', 'blue', 'green', 'red', 'green']\n",
    "\n",
    "# Initialize LabelEncoder\n",
    "encoder = LabelEncoder()\n",
    "\n",
    "# Fit and transform the data\n",
    "encoded_colors = encoder.fit_transform(colors)\n",
    "\n",
    "print(\"Original colors:\", colors)\n",
    "print(\"Encoded colors:\", encoded_colors)\n"
   ]
  },
  {
   "cell_type": "code",
   "execution_count": 3,
   "id": "598755cf-aad1-4785-86fc-fc05eee65635",
   "metadata": {},
   "outputs": [
    {
     "name": "stdout",
     "output_type": "stream",
     "text": [
      "Original temperatures: ['low', 'medium', 'high', 'medium', 'low', 'high']\n",
      "Encoded temperatures: [1 2 0 2 1 0]\n",
      "Decoded temperatures: ['low', 'medium', 'high', 'medium', 'low', 'high']\n"
     ]
    }
   ],
   "source": [
    "#Ans 3:\n",
    "'''\n",
    "Nominal encoding is preferred over one-hot encoding when the categorical variables have a natural order or hierarchy,\n",
    "and preserving this order is important for the analysis. Nominal encoding is also suitable when dealing with categorical \n",
    "variables with a large number of unique categories,\n",
    "as it reduces the dimensionality of the dataset compared to one-hot encoding.\n",
    "\n",
    "'''\n",
    "from sklearn.preprocessing import LabelEncoder\n",
    "\n",
    "# Sample data\n",
    "temperatures = ['low', 'medium', 'high', 'medium', 'low', 'high']\n",
    "\n",
    "# Initialize LabelEncoder\n",
    "encoder = LabelEncoder()\n",
    "\n",
    "# Fit and transform the data\n",
    "encoded_temperatures = encoder.fit_transform(temperatures)\n",
    "\n",
    "# Display the original and encoded temperatures\n",
    "print(\"Original temperatures:\", temperatures)\n",
    "print(\"Encoded temperatures:\", encoded_temperatures)\n",
    "\n",
    "# Decode the encoded temperatures back to original categories\n",
    "decoded_temperatures = encoder.inverse_transform(encoded_temperatures)\n",
    "print(\"Decoded temperatures:\", list(decoded_temperatures))\n"
   ]
  },
  {
   "cell_type": "code",
   "execution_count": null,
   "id": "e69ab41e-1fa7-46bb-9808-d90eeb112bb0",
   "metadata": {},
   "outputs": [],
   "source": [
    "#Ans 4:\n",
    "'''\n",
    " If the dataset contains categorical data with 5 unique values, I would use nominal encoding to transform the data into \n",
    " a format suitable for machine learning algorithms. This is because nominal encoding assigns a unique integer label to each category,\n",
    " effectively converting the categorical data into numerical format. Since the number of unique values is relatively small (5), \n",
    " nominal encoding is a practical choice and avoids the potential high dimensionality associated with one-hot encoding,\n",
    " especially when dealing with larger numbers of unique categories. Additionally, if the categorical variable exhibits a natural order or hierarchy,\n",
    " nominal encoding preserves this information, which can be beneficial for certain types of machine learning algorithms.\n",
    " \n",
    "'''\n"
   ]
  },
  {
   "cell_type": "code",
   "execution_count": null,
   "id": "80527c3b-f0ef-4be5-bc4a-93ace477406b",
   "metadata": {},
   "outputs": [],
   "source": [
    "#Ans 5:\n",
    "'''\n",
    "Let's assume the two categorical columns have the following number of unique categories:\n",
    "\n",
    "Categorical column 1: 10 unique categories\n",
    "Categorical column 2: 5 unique categories\n",
    "To calculate the total number of new columns created:\n",
    "\n",
    "For the first categorical column, nominal encoding will create 10−1=9 new columns.\n",
    "For the second categorical column, nominal encoding will create 5−1=4 new columns.\n",
    "\n",
    "Therefore, the total number of new columns created by nominal encoding is 9+4=13.\n",
    "'''"
   ]
  },
  {
   "cell_type": "code",
   "execution_count": null,
   "id": "66b491aa-92eb-4e70-bdab-6b82f4021a31",
   "metadata": {},
   "outputs": [],
   "source": [
    "#ANS 6:\n",
    "'''\n",
    "For a dataset containing information about different types of animals, including their species, habitat, and diet, \n",
    "I would use one-hot encoding to transform the categorical data into a format suitable for machine learning algorithms.\n",
    "One-hot encoding creates a binary column for each unique category in the categorical variable, \n",
    "where each column indicates the presence or absence of that category. This encoding technique is suitable\n",
    "when there is no natural ordering or hierarchy among the categories, as is typically the case with species, habitat, and diet.\n",
    "'''"
   ]
  },
  {
   "cell_type": "code",
   "execution_count": null,
   "id": "91281126-4b45-4af3-94f0-dbb42c20404e",
   "metadata": {},
   "outputs": [],
   "source": [
    "#ANS 7:\n",
    "'''\n",
    "One-hot encoding would be suitable for categorical features such as gender and contract type,\n",
    "as there is no inherent ordinal relationship between the categories.\n",
    "Label encoding could be used for the contract type if there is an ordinal relationship between the categories\n",
    "(e.g., \"month-to-month\" < \"one year\" < \"two years\").\n",
    "\n",
    "Here's a step-by-step explanation of how to implement the encoding:\n",
    "\n",
    "1.Identify the categorical features: gender and contract type.\n",
    "\n",
    "2.Apply one-hot encoding to the gender feature, creating two new binary columns: \"gender_male\" and \"gender_female.\"\n",
    "\n",
    "3.Apply one-hot encoding to the contract type feature, creating three new binary columns: \"contract_month-to-month,\" \n",
    "\"contract_one year,\" and \"contract_two year.\"\n",
    "\n",
    "4.Optionally, apply label encoding to the contract type feature if there is an ordinal relationship between the categories.\n",
    "\n",
    "5.Concatenate the encoded features with the numerical features (age, monthly charges, and tenure) to form the final dataset\n",
    "for machine learning modeling.\n",
    "\n",
    "\n",
    "'''"
   ]
  },
  {
   "cell_type": "code",
   "execution_count": null,
   "id": "104de3da-df12-4169-bf45-364d723a30d7",
   "metadata": {},
   "outputs": [],
   "source": []
  },
  {
   "cell_type": "code",
   "execution_count": null,
   "id": "7e7d0d80-7a66-439a-b6df-a549cc0cf406",
   "metadata": {},
   "outputs": [],
   "source": []
  },
  {
   "cell_type": "code",
   "execution_count": null,
   "id": "78e5e2dd-1681-4f5d-822c-1098b4661b66",
   "metadata": {},
   "outputs": [],
   "source": []
  }
 ],
 "metadata": {
  "kernelspec": {
   "display_name": "Python 3 (ipykernel)",
   "language": "python",
   "name": "python3"
  },
  "language_info": {
   "codemirror_mode": {
    "name": "ipython",
    "version": 3
   },
   "file_extension": ".py",
   "mimetype": "text/x-python",
   "name": "python",
   "nbconvert_exporter": "python",
   "pygments_lexer": "ipython3",
   "version": "3.10.8"
  }
 },
 "nbformat": 4,
 "nbformat_minor": 5
}
