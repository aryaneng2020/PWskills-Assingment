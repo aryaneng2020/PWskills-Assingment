{
 "cells": [
  {
   "cell_type": "markdown",
   "id": "48500393-f4e6-4720-85b4-38a351c2d57d",
   "metadata": {},
   "source": [
    "### 9 April Assignment Solution"
   ]
  },
  {
   "cell_type": "markdown",
   "id": "72f83b14-32f3-43dd-93c3-27b00eccce58",
   "metadata": {},
   "source": [
    "### Q1. What is Bayes' theorem?\n",
    "\n",
    "Bayes' theorem is a fundamental concept in probability theory and statistics that describes how to update the probabilities of hypotheses when given evidence. It allows for the revision of existing predictions or theories in light of new evidence. Named after the Reverend Thomas Bayes, the theorem provides a way to calculate the probability of a hypothesis based on prior knowledge and new data.\n"
   ]
  },
  {
   "cell_type": "markdown",
   "id": "fdf8867a-23a1-43a4-9b4b-dd81c4e688ee",
   "metadata": {},
   "source": [
    "\n",
    "### Q2. What is the formula for Bayes' theorem?\n",
    "\n",
    "The formula for Bayes' theorem is:\n",
    "\n",
    "\\[ P(A|B) = \\frac{P(B|A) \\cdot P(A)}{P(B)} \\]\n",
    "\n",
    "Where:\n",
    "- \\( P(A|B) \\) is the posterior probability of event \\( A \\) given event \\( B \\) (the probability of \\( A \\) after considering \\( B \\)).\n",
    "- \\( P(B|A) \\) is the likelihood of event \\( B \\) given event \\( A \\) (the probability of \\( B \\) if \\( A \\) is true).\n",
    "- \\( P(A) \\) is the prior probability of event \\( A \\) (the initial probability of \\( A \\) before considering \\( B \\)).\n",
    "- \\( P(B) \\) is the marginal probability of event \\( B \\) (the total probability of \\( B \\) under all possible hypotheses).\n"
   ]
  },
  {
   "cell_type": "markdown",
   "id": "adcd3c71-ff0e-4ac7-8abc-7a175d7b172c",
   "metadata": {},
   "source": [
    "### Q3. How is Bayes' theorem used in practice?\n",
    "\n",
    "Bayes' theorem is used in various fields and applications, including:\n",
    "\n",
    "1. **Medical Diagnosis**: Estimating the probability of a disease given a positive test result.\n",
    "2. **Spam Filtering**: Calculating the likelihood that an email is spam based on the presence of certain words.\n",
    "3. **Machine Learning**: Updating the probabilities of different classes in classification problems.\n",
    "4. **Risk Assessment**: Evaluating the probability of risks given new evidence or changes in circumstances.\n",
    "5. **Financial Modeling**: Predicting the likelihood of market movements based on new economic data.\n",
    "6. **Forensic Science**: Assessing the probability of guilt given the presence of forensic evidence.\n"
   ]
  },
  {
   "cell_type": "markdown",
   "id": "eb684ce1-0057-46a6-80cd-5cd1a863b1e7",
   "metadata": {},
   "source": [
    "### Q4. What is the relationship between Bayes' theorem and conditional probability?\n",
    "\n",
    "Bayes' theorem is fundamentally based on the concept of conditional probability. Conditional probability is the probability of an event occurring given that another event has already occurred. Bayes' theorem uses conditional probabilities to update the probability of a hypothesis (event \\( A \\)) based on new evidence (event \\( B \\)).\n",
    "\n",
    "In essence, Bayes' theorem rearranges the definition of conditional probability:\n",
    "\n",
    "\\[ P(A|B) = \\frac{P(B|A) \\cdot P(A)}{P(B)} \\]\n",
    "\n",
    "This formula shows how to compute the probability of \\( A \\) given \\( B \\) using the conditional probability of \\( B \\) given \\( A \\), along with the prior probabilities of \\( A \\) and \\( B \\).\n"
   ]
  },
  {
   "cell_type": "markdown",
   "id": "317c5313-1563-461b-a0f1-678a3638e490",
   "metadata": {},
   "source": [
    "\n",
    "### Q5. How do you choose which type of Naive Bayes classifier to use for any given problem?\n",
    "\n",
    "The choice of Naive Bayes classifier depends on the nature of the data and the specific problem at hand:\n",
    "\n",
    "1. **Gaussian Naive Bayes**: Use this when the features (predictors) are continuous and are assumed to follow a normal (Gaussian) distribution. It's often used in applications like image recognition or medical data analysis.\n",
    "\n",
    "2. **Multinomial Naive Bayes**: Suitable for discrete data, especially when dealing with count data (e.g., word counts in text classification problems). Commonly used in natural language processing and text classification.\n",
    "\n",
    "3. **Bernoulli Naive Bayes**: Best for binary/Boolean features. It's particularly useful for text classification tasks where the presence or absence of a feature (e.g., a word in a document) is more informative than its frequency.\n",
    "\n",
    "To choose the appropriate Naive Bayes classifier, consider the following:\n",
    "\n",
    "- **Data Type**: Whether the features are continuous, count-based, or binary.\n",
    "- **Distribution Assumption**: Whether the data fits the assumptions of Gaussian, multinomial, or Bernoulli distributions.\n",
    "- **Performance**: Empirical performance on validation data. It can be beneficial to try different Naive Bayes classifiers and select the one that provides the best accuracy and performance metrics for your specific problem."
   ]
  },
  {
   "cell_type": "code",
   "execution_count": 1,
   "id": "7ce8f854-c99b-4368-8c5c-a7a7ce6acd9f",
   "metadata": {},
   "outputs": [
    {
     "name": "stdout",
     "output_type": "stream",
     "text": [
      "Posterior probability for class A: 0.046153846153846156\n",
      "Posterior probability for class B: 0.03333333333333333\n",
      "The predicted class for the instance with X1=3 and X2=4 is: A\n"
     ]
    }
   ],
   "source": [
    "# Define the frequency table\n",
    "class_frequencies = {\n",
    "    'A': {'X1': {1: 3, 2: 3, 3: 4}, 'X2': {1: 4, 2: 3, 3: 3, 4: 3}},\n",
    "    'B': {'X1': {1: 2, 2: 2, 3: 1}, 'X2': {1: 2, 2: 2, 3: 2, 4: 3}}\n",
    "}\n",
    "\n",
    "# Calculate the total count for each class\n",
    "total_A = sum(sum(class_frequencies['A'][feature].values()) for feature in class_frequencies['A'])\n",
    "total_B = sum(sum(class_frequencies['B'][feature].values()) for feature in class_frequencies['B'])\n",
    "\n",
    "# Calculate the probabilities for each class\n",
    "prob_X1_3_given_A = class_frequencies['A']['X1'][3] / sum(class_frequencies['A']['X1'].values())\n",
    "prob_X2_4_given_A = class_frequencies['A']['X2'][4] / sum(class_frequencies['A']['X2'].values())\n",
    "\n",
    "prob_X1_3_given_B = class_frequencies['B']['X1'][3] / sum(class_frequencies['B']['X1'].values())\n",
    "prob_X2_4_given_B = class_frequencies['B']['X2'][4] / sum(class_frequencies['B']['X2'].values())\n",
    "\n",
    "# Assuming equal prior probabilities for each class\n",
    "prior_A = prior_B = 0.5\n",
    "\n",
    "# Calculate the posterior probabilities\n",
    "posterior_A = prob_X1_3_given_A * prob_X2_4_given_A * prior_A\n",
    "posterior_B = prob_X1_3_given_B * prob_X2_4_given_B * prior_B\n",
    "\n",
    "# Make a prediction\n",
    "prediction = 'A' if posterior_A > posterior_B else 'B'\n",
    "\n",
    "print(f\"Posterior probability for class A: {posterior_A}\")\n",
    "print(f\"Posterior probability for class B: {posterior_B}\")\n",
    "print(f\"The predicted class for the instance with X1=3 and X2=4 is: {prediction}\")\n"
   ]
  },
  {
   "cell_type": "code",
   "execution_count": null,
   "id": "488c2919-dce1-43a5-8d24-253249566cab",
   "metadata": {},
   "outputs": [],
   "source": []
  },
  {
   "cell_type": "code",
   "execution_count": null,
   "id": "063434cb-751a-46ce-8ce0-42f479cb12b9",
   "metadata": {},
   "outputs": [],
   "source": []
  },
  {
   "cell_type": "code",
   "execution_count": null,
   "id": "2d58805b-65c5-4fc3-a895-94eab613a737",
   "metadata": {},
   "outputs": [],
   "source": []
  },
  {
   "cell_type": "code",
   "execution_count": null,
   "id": "2cc09faf-4f82-4e8c-acc5-fd2effc1d854",
   "metadata": {},
   "outputs": [],
   "source": []
  }
 ],
 "metadata": {
  "kernelspec": {
   "display_name": "Python 3 (ipykernel)",
   "language": "python",
   "name": "python3"
  },
  "language_info": {
   "codemirror_mode": {
    "name": "ipython",
    "version": 3
   },
   "file_extension": ".py",
   "mimetype": "text/x-python",
   "name": "python",
   "nbconvert_exporter": "python",
   "pygments_lexer": "ipython3",
   "version": "3.10.8"
  }
 },
 "nbformat": 4,
 "nbformat_minor": 5
}
