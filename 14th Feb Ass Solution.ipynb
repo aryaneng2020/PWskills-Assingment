{
 "cells": [
  {
   "cell_type": "code",
   "execution_count": 1,
   "id": "e5346862-bb76-46c1-be97-3040a47a5872",
   "metadata": {},
   "outputs": [],
   "source": [
    "#14 Feb Ass Solution"
   ]
  },
  {
   "cell_type": "code",
   "execution_count": null,
   "id": "07764052-8607-489a-92e4-ce168d7771d5",
   "metadata": {},
   "outputs": [],
   "source": [
    "#Ans 1:\n",
    "'''\n",
    "Multithreading in Python programming is a well-known technique in which multiple threads in a process share their data space \n",
    "with the main thread which makes information sharing and communication within threads easy and efficient. Threads are lighter than processes.\n",
    "Multi threads may execute individually while sharing their process resources. \n",
    "The purpose of multithreading is to run multiple tasks and function cells at the same time.\n",
    "\n",
    "The Thread Module is used to handle threads in python.\n",
    "'''"
   ]
  },
  {
   "cell_type": "code",
   "execution_count": null,
   "id": "d7ef8c4e-b3fc-4671-901e-d2dd40ca6967",
   "metadata": {},
   "outputs": [],
   "source": [
    "#Ans 2:\n",
    "'''\n",
    "Multithreading allows you to break down an application into multiple sub-tasks and run these tasks simultaneously.\n",
    "If you use multithreading properly, your application speed, performance, and rendering can all be improved.\n",
    "\n",
    "threading.activeCount() − Returns the number of thread objects that are active.\n",
    "threading.currentThread() − Returns the number of thread objects in the caller's thread control.\n",
    "threading.enumerate() − Returns a list of all thread objects that are currently active.\n",
    "'''\n"
   ]
  },
  {
   "cell_type": "code",
   "execution_count": null,
   "id": "e86b310c-55f8-4972-b84a-99cf78441a85",
   "metadata": {},
   "outputs": [],
   "source": [
    "#Ans 3:\n",
    "'''\n",
    "run() method is an inbuilt method of the Thread class of the threading module , it is used to represent a thread's activity\n",
    "The . start() method activates and prompts a thread object to be run.\n",
    "The join() method takes all items in an iterable and joins them into one string.\n",
    "The is_alive() method tests whether the thread is alive\n",
    "'''"
   ]
  },
  {
   "cell_type": "code",
   "execution_count": null,
   "id": "74b2330c-7788-418a-8ac5-67d90af2e2c2",
   "metadata": {},
   "outputs": [],
   "source": [
    "#Ans 4:\n",
    "import threading\n",
    " \n",
    " \n",
    "def print_cube(num):\n",
    "    print(\"Cube: {}\" .format(num * num * num))\n",
    " \n",
    " \n",
    "def print_square(num):\n",
    "    print(\"Square: {}\" .format(num * num))\n",
    " \n",
    " \n",
    "if __name__ ==\"__main__\":\n",
    "    t1 = threading.Thread(target=print_square, args=(10,))\n",
    "    t2 = threading.Thread(target=print_cube, args=(10,))\n",
    " \n",
    "    t1.start()\n",
    "    t2.start()\n",
    " \n",
    "    t1.join()\n",
    "    t2.join()\n",
    " \n",
    "    print(\"Done!\")\n"
   ]
  },
  {
   "cell_type": "code",
   "execution_count": null,
   "id": "3eba20c7-c7ba-463b-9eb3-7f0b66f02cdb",
   "metadata": {},
   "outputs": [],
   "source": [
    "#Ans 5:\n",
    "'''\n",
    "Advantages of multithreading:\n",
    "\n",
    "Enhanced performance by decreased development time\n",
    "Simplified and streamlined program coding\n",
    "Improvised GUI responsiveness\n",
    "Simultaneous and parallelized occurrence of tasks\n",
    "Better use of cache storage by utilization of resources\n",
    "Decreased cost of maintenance\n",
    "Better use of CPU resource\n",
    "\n",
    "\n",
    "Disadvantages of multithreading:\n",
    "    \n",
    "Complex debugging and testing processes\n",
    "Overhead switching of context\n",
    "Increased potential for deadlock occurrence\n",
    "Increased difficulty level in writing a program\n",
    "Unpredictable results\n",
    "\n",
    "'''"
   ]
  },
  {
   "cell_type": "code",
   "execution_count": null,
   "id": "ca76bb9d-5615-437c-b644-ce2f94458815",
   "metadata": {},
   "outputs": [],
   "source": [
    "#Ans 6:\n",
    "\n",
    "'''\n",
    "A race condition occurs when two threads use the same variable at a given time. Deadlock exists when two threads seek one lock simultaneously\n",
    "'''"
   ]
  },
  {
   "cell_type": "code",
   "execution_count": null,
   "id": "a5e14c97-4ff3-4f67-9426-fb223778d8e9",
   "metadata": {},
   "outputs": [],
   "source": []
  },
  {
   "cell_type": "code",
   "execution_count": null,
   "id": "923d52c4-2a14-49a7-a386-32501480b661",
   "metadata": {},
   "outputs": [],
   "source": []
  }
 ],
 "metadata": {
  "kernelspec": {
   "display_name": "Python 3 (ipykernel)",
   "language": "python",
   "name": "python3"
  },
  "language_info": {
   "codemirror_mode": {
    "name": "ipython",
    "version": 3
   },
   "file_extension": ".py",
   "mimetype": "text/x-python",
   "name": "python",
   "nbconvert_exporter": "python",
   "pygments_lexer": "ipython3",
   "version": "3.10.8"
  }
 },
 "nbformat": 4,
 "nbformat_minor": 5
}
