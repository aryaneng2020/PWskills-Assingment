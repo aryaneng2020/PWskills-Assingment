{
 "cells": [
  {
   "cell_type": "code",
   "execution_count": null,
   "id": "c7862ba1-d5d8-42e7-ac6d-7d0599b6c8c9",
   "metadata": {},
   "outputs": [],
   "source": [
    "#23 Feb Assignment Solution"
   ]
  },
  {
   "cell_type": "code",
   "execution_count": null,
   "id": "ab6b9094-d14a-41bc-ab1b-b6a8c9f6aa7d",
   "metadata": {},
   "outputs": [],
   "source": [
    "pip install pandas"
   ]
  },
  {
   "cell_type": "code",
   "execution_count": null,
   "id": "b7d397c0-3b00-455e-8445-28b79b9630be",
   "metadata": {},
   "outputs": [],
   "source": [
    "#Ans 1:\n",
    "import pandas as pd\n",
    " \n",
    "# create series form a list\n",
    "ser = pd.Series([4,8,15,16,23,42])\n",
    "print(ser)"
   ]
  },
  {
   "cell_type": "code",
   "execution_count": null,
   "id": "ec784c4a-273f-451d-9acc-23546ef3d8ac",
   "metadata": {},
   "outputs": [],
   "source": [
    "#Ans 2:\n",
    "import pandas as pd\n",
    " \n",
    "# a simple list\n",
    "list = [\"Hello\",4,27,857,275,\"I\",\"Hi\",\"Aryan\",464.36,\"A\"]\n",
    " \n",
    "# create series form a list\n",
    "ser = pd.Series(list)\n",
    "print(ser)"
   ]
  },
  {
   "cell_type": "code",
   "execution_count": null,
   "id": "804cc890-d5e7-4fd2-b352-778dbad4ca3b",
   "metadata": {},
   "outputs": [],
   "source": [
    "#Ans 3:\n",
    "import pandas as pd\n",
    "\n",
    "dictionary = { 'Name' : [\"Alice\",\"Bob\",\"Claire\"],\n",
    "           'Age' : [25,30,37],\n",
    "           'Gender' : [\"Female\",\"Male\",\"Female\"] \n",
    "            }\n",
    "#load data into a DataFrame object:\n",
    "df = pd.DataFrame(dictionary)\n",
    "print(df)\n"
   ]
  },
  {
   "cell_type": "code",
   "execution_count": null,
   "id": "909b8371-0fa3-40e4-a071-53be84f295e4",
   "metadata": {},
   "outputs": [],
   "source": [
    "#Ans 4:\n",
    "'''\n",
    "A Pandas DataFrame is a 2 dimensional data structure, like a 2 dimensional array, or a table with rows and columns.\n",
    "\n",
    "A Pandas Series is a 1D array of data, but a single-column DataFrame is a 2D table with one column.\n",
    "The main distinction between the two is this.\n",
    "For a single-column DataFrame, an index can be optional, but a Series has to have an index defined.\n",
    "\n",
    "Example:-\n",
    "'''\n",
    "print(\"Dataframe Example:-\")\n",
    "import pandas as pd\n",
    "\n",
    "data = {\n",
    "  \"calories\": [420, 380, 390],\n",
    "  \"duration\": [50, 40, 45]\n",
    "}\n",
    "\n",
    "#load data into a DataFrame object:\n",
    "df = pd.DataFrame(data)\n",
    "\n",
    "print(df) \n",
    "\n",
    "print(\"Series Example:-\")\n",
    "# Create a Pandas Series from a list\n",
    "data = [1000, 2000, 3000, 4000, 5000]\n",
    "s = pd.Series(data)\n",
    "\n",
    "# Print the Series\n",
    "print(s)"
   ]
  },
  {
   "cell_type": "code",
   "execution_count": null,
   "id": "110f96ed-e113-47c0-92a5-91827f134378",
   "metadata": {},
   "outputs": [],
   "source": [
    "#Ans 5:\n",
    "'''\n",
    "Some common functions you can use to manipulate data in a Pandas DataFrame:-\n",
    "1.Head and Tail\n",
    "2.Shape, Size and Info\n",
    "3.Columns\n",
    "4.apply()\n",
    "5.applymap()\n",
    "6.Read Data\n",
    "\n",
    "'''\n",
    "import pandas as pd\n",
    "df = pd.read_csv(\"services.csv\")\n",
    "df.head()\n",
    "df.tail(7)\n",
    "list(df.columns)\n"
   ]
  },
  {
   "cell_type": "code",
   "execution_count": null,
   "id": "85b5cb83-6ca4-4ce0-a68d-b1190958065c",
   "metadata": {},
   "outputs": [],
   "source": [
    "#Ans 6:\n",
    "'''\n",
    "DataFrames are both value and size-mutable \n",
    "(A Series, by contrast, is only value-mutable, not size-mutable. \n",
    "The length of a Series cannot be changed although the values can be changed)\n",
    "'''\n"
   ]
  },
  {
   "cell_type": "code",
   "execution_count": 23,
   "id": "d5a51130-ce8d-432a-8dcc-8906155bc9aa",
   "metadata": {},
   "outputs": [
    {
     "name": "stdout",
     "output_type": "stream",
     "text": [
      "Create pandas Series:\n",
      "    courses   fees  discount\n",
      "0    Spark  22000      1000\n",
      "1  PySpark  25000      2300\n",
      "2   Hadoop  23000      1000\n"
     ]
    }
   ],
   "source": [
    "#Ans 7:\n",
    "import pandas as pd\n",
    "\n",
    "# Create pandas Series\n",
    "courses = pd.Series([\"Spark\",\"PySpark\",\"Hadoop\"], name='courses')\n",
    "fees = pd.Series([22000,25000,23000],name='fees')\n",
    "discount  = pd.Series([1000,2300,1000], name='discount')\n",
    "\n",
    "# Combine two series.\n",
    "df=pd.concat([courses,fees],axis=1)\n",
    "\n",
    "# It also supports to combine multiple series.\n",
    "df=pd.concat([courses,fees,discount],axis=1)\n",
    "print(\"Create pandas Series:\\n\",df)"
   ]
  },
  {
   "cell_type": "code",
   "execution_count": null,
   "id": "31d728a1-0a98-4aea-97d0-306e349fd4fd",
   "metadata": {},
   "outputs": [],
   "source": []
  }
 ],
 "metadata": {
  "kernelspec": {
   "display_name": "Python 3 (ipykernel)",
   "language": "python",
   "name": "python3"
  },
  "language_info": {
   "codemirror_mode": {
    "name": "ipython",
    "version": 3
   },
   "file_extension": ".py",
   "mimetype": "text/x-python",
   "name": "python",
   "nbconvert_exporter": "python",
   "pygments_lexer": "ipython3",
   "version": "3.10.8"
  }
 },
 "nbformat": 4,
 "nbformat_minor": 5
}
