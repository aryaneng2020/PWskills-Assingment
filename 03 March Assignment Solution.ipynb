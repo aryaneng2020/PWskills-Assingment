{
 "cells": [
  {
   "cell_type": "code",
   "execution_count": null,
   "id": "4056eec0-95b7-473e-83e8-780da45c8ef4",
   "metadata": {},
   "outputs": [],
   "source": [
    "#03 March Assignment Solution"
   ]
  },
  {
   "cell_type": "code",
   "execution_count": null,
   "id": "4c7cf517-c08c-4ea7-9539-b00ec3c7fabd",
   "metadata": {},
   "outputs": [],
   "source": [
    "#Ans 1:\n",
    "'''\n",
    "Five commonly used plots that can be created using the Seaborn library, along with their typical use cases:\n",
    "\n",
    "1.Scatter Plot:\n",
    "Use: Visualize the relationship between two continuous variables.\n",
    "Example Use Case: Plotting the distribution of heights and weights to see if there's a correlation between them.\n",
    "\n",
    "2.Histogram:\n",
    "Use: Display the distribution of a single continuous variable.\n",
    "Example Use Case: Visualizing the distribution of exam scores to understand the spread of student performance.\n",
    "\n",
    "3.Bar Plot:\n",
    "Use: Compare categorical data across different groups.\n",
    "Example Use Case: Showing the average sales of different products across regions.\n",
    "\n",
    "4.Line Plot:\n",
    "Use: Show trends in data over time or any ordered dimension.\n",
    "Example Use Case: Displaying the fluctuation of stock prices over a period of months.\n",
    "\n",
    "5.Heatmap:\n",
    "Use: Visualize matrix-like data using color intensity.\n",
    "Example Use Case: Displaying correlations between different features in a dataset, with colors representing the strength of correlation.\n",
    "'''"
   ]
  },
  {
   "cell_type": "code",
   "execution_count": null,
   "id": "a12df6d3-3dba-49f4-b06f-96ed8a97b1a8",
   "metadata": {},
   "outputs": [],
   "source": [
    "#Ans 2:\n",
    "import seaborn as sns\n",
    "\n",
    "fmri = sns.load_dataset(\"fmri\")\n",
    "sns.lineplot(data=fmri, x=\"timepoint\", y=\"signal\",hue=\"event\", style=\"region\")\n"
   ]
  },
  {
   "cell_type": "code",
   "execution_count": null,
   "id": "185f2a08-8abf-4e38-9120-e87b10ff53a0",
   "metadata": {},
   "outputs": [],
   "source": [
    "#Ans 3:\n",
    "import seaborn as sns\n",
    "import matplotlib.pyplot as plt\n",
    "\n",
    "\n",
    "titanic_data = sns.load_dataset(\"titanic\")\n",
    "\n",
    "\n",
    "plt.figure(figsize=(10, 6))\n",
    "\n",
    "\n",
    "plt.subplot(1, 2, 1)\n",
    "sns.boxplot(data=titanic_data, x='pclass', y='age')\n",
    "plt.title('Age Distribution by Passenger Class')\n",
    "plt.xlabel('Passenger Class')\n",
    "plt.ylabel('Age')\n",
    "\n",
    "\n",
    "plt.subplot(1, 2, 2)\n",
    "sns.boxplot(data=titanic_data, x='pclass', y='fare')\n",
    "plt.title('Fare Distribution by Passenger Class')\n",
    "plt.xlabel('Passenger Class')\n",
    "plt.ylabel('Fare')\n",
    "\n",
    "plt.tight_layout()\n",
    "plt.show()\n",
    "\n"
   ]
  },
  {
   "cell_type": "code",
   "execution_count": null,
   "id": "91ab3b50-6188-460b-8c0c-6ee337eaecf9",
   "metadata": {},
   "outputs": [],
   "source": [
    "#Ans 4:\n",
    "import seaborn as sns\n",
    "import matplotlib.pyplot as plt\n",
    "\n",
    "# Load the \"diamonds\" dataset\n",
    "diamonds_data = sns.load_dataset(\"diamonds\")\n",
    "\n",
    "# Plot histogram with hue parameter\n",
    "plt.figure(figsize=(10, 6))\n",
    "sns.histplot(data=diamonds_data, x='price', hue='cut', bins=30, kde=True)\n",
    "plt.title('Histogram of Diamond Prices by Cut')\n",
    "plt.xlabel('Price')\n",
    "plt.ylabel('Frequency')\n",
    "plt.show()"
   ]
  },
  {
   "cell_type": "code",
   "execution_count": null,
   "id": "3fa04dc9-df40-432a-93ae-456ea7b177d3",
   "metadata": {},
   "outputs": [],
   "source": [
    "#ANs 5:\n",
    "import seaborn as sns\n",
    "import matplotlib.pyplot as plt\n",
    "\n",
    "# Load the \"iris\" dataset\n",
    "iris_data = sns.load_dataset(\"iris\")\n",
    "\n",
    "# Plot pair plot with hue parameter\n",
    "sns.pairplot(iris_data, hue='species')\n",
    "plt.title('Pair Plot of Iris Dataset by Species')\n",
    "plt.show()"
   ]
  },
  {
   "cell_type": "code",
   "execution_count": null,
   "id": "1bd3c9ba-711e-4882-84c9-d73774f0eb19",
   "metadata": {},
   "outputs": [],
   "source": [
    "#Ans 6:\n",
    "import seaborn as sns\n",
    "import matplotlib.pyplot as plt\n",
    "\n",
    "# Load the \"flights\" dataset\n",
    "flights_data = sns.load_dataset(\"flights\")\n",
    "\n",
    "# Reshape the data for heatmap\n",
    "flights_pivot = flights_data.pivot(\"month\", \"year\", \"passengers\")\n",
    "\n",
    "# Plot heatmap\n",
    "plt.figure(figsize=(10, 8))\n",
    "sns.heatmap(flights_pivot, annot=True, fmt=\"d\", cmap=\"YlGnBu\")\n",
    "plt.title(\"Passenger Numbers by Month and Year\")\n",
    "plt.xlabel(\"Year\")\n",
    "plt.ylabel(\"Month\")\n",
    "plt.show()"
   ]
  },
  {
   "cell_type": "code",
   "execution_count": null,
   "id": "d59fe127-0d18-458b-86fc-278c1da2327a",
   "metadata": {},
   "outputs": [],
   "source": []
  },
  {
   "cell_type": "code",
   "execution_count": null,
   "id": "59fe0e4f-c15e-47d5-95de-24653594ed35",
   "metadata": {},
   "outputs": [],
   "source": []
  },
  {
   "cell_type": "code",
   "execution_count": null,
   "id": "4a553158-e5c2-4f63-9480-40d3fc1243a4",
   "metadata": {},
   "outputs": [],
   "source": []
  }
 ],
 "metadata": {
  "kernelspec": {
   "display_name": "Python 3 (ipykernel)",
   "language": "python",
   "name": "python3"
  },
  "language_info": {
   "codemirror_mode": {
    "name": "ipython",
    "version": 3
   },
   "file_extension": ".py",
   "mimetype": "text/x-python",
   "name": "python",
   "nbconvert_exporter": "python",
   "pygments_lexer": "ipython3",
   "version": "3.10.8"
  }
 },
 "nbformat": 4,
 "nbformat_minor": 5
}
