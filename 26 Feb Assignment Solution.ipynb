{
 "cells": [
  {
   "cell_type": "code",
   "execution_count": null,
   "id": "3264c25e-d534-44c1-a817-d1825c15d61b",
   "metadata": {},
   "outputs": [],
   "source": [
    "#26 Feb Assignment Solution"
   ]
  },
  {
   "cell_type": "code",
   "execution_count": 38,
   "id": "74c0e8bf-278d-44a4-aaee-42b619c72c66",
   "metadata": {},
   "outputs": [
    {
     "name": "stdout",
     "output_type": "stream",
     "text": [
      "<class 'list'>\n",
      "<U1\n"
     ]
    }
   ],
   "source": [
    "#Ans 1:\n",
    "import numpy as np\n",
    "\n",
    "list_ = [ '1' , '2' , '3' , '4' , '5' ]\n",
    "\n",
    "array_list = np.array(object = list_)\n",
    "print(type(list_))\n",
    "print(array_list.dtype)"
   ]
  },
  {
   "cell_type": "code",
   "execution_count": 31,
   "id": "d6575557-ad92-4b51-979b-444d535f1e30",
   "metadata": {},
   "outputs": [
    {
     "name": "stdout",
     "output_type": "stream",
     "text": [
      "1 : <class 'str'>\n",
      "2 : <class 'str'>\n",
      "3 : <class 'str'>\n",
      "4 : <class 'str'>\n",
      "5 : <class 'str'>\n",
      "1 : <U1\n",
      "2 : <U1\n",
      "3 : <U1\n",
      "4 : <U1\n",
      "5 : <U1\n"
     ]
    }
   ],
   "source": [
    "#Ans 2:\n",
    "for i in list_:\n",
    "    print(f\"{i} : {type(i)}\")\n",
    "    \n",
    "for i in array_list:\n",
    "    print(f\"{i} : {i.dtype}\")\n"
   ]
  },
  {
   "cell_type": "code",
   "execution_count": 39,
   "id": "e7071c50-f17b-4136-8d21-0c7a784d5ef4",
   "metadata": {},
   "outputs": [
    {
     "name": "stdout",
     "output_type": "stream",
     "text": [
      "<class 'list'>\n",
      "int64\n",
      "1 : <class 'str'>\n",
      "2 : <class 'str'>\n",
      "3 : <class 'str'>\n",
      "4 : <class 'str'>\n",
      "5 : <class 'str'>\n",
      "1 : int64\n",
      "2 : int64\n",
      "3 : int64\n",
      "4 : int64\n",
      "5 : int64\n"
     ]
    }
   ],
   "source": [
    "#Ans 3;\n",
    "import numpy as np\n",
    "\n",
    "list_ = [ '1' , '2' , '3' , '4' , '5' ]\n",
    "\n",
    "array_list = np.array(object = list_, dtype = int)\n",
    "print(type(list_))\n",
    "print(array_list.dtype)\n",
    "\n",
    "for i in list_:\n",
    "    print(f\"{i} : {type(i)}\")\n",
    "    \n",
    "for i in array_list:\n",
    "    print(f\"{i} : {i.dtype}\")\n"
   ]
  },
  {
   "cell_type": "code",
   "execution_count": 44,
   "id": "328cd2d8-9417-4990-9c89-16caeb757fe8",
   "metadata": {},
   "outputs": [
    {
     "name": "stdout",
     "output_type": "stream",
     "text": [
      "Shape: (2, 3)\n",
      "Size: 6\n"
     ]
    }
   ],
   "source": [
    "#Ans 4:\n",
    "\n",
    "import numpy as np\n",
    "\n",
    "num_list = [ [ 1 , 2 , 3 ] , [ 4 , 5 , 6 ] ]\n",
    "\n",
    "num_array = np.array(object = num_list)\n",
    "\n",
    "print(\"Shape:\",num_array.shape)\n",
    "print(\"Size:\",num_array.size)"
   ]
  },
  {
   "cell_type": "code",
   "execution_count": 4,
   "id": "861722aa-c4a8-4f89-9978-501628793b8f",
   "metadata": {},
   "outputs": [
    {
     "name": "stdout",
     "output_type": "stream",
     "text": [
      "[[0. 0. 0.]\n",
      " [0. 0. 0.]\n",
      " [0. 0. 0.]]\n"
     ]
    }
   ],
   "source": [
    "#Ans 5:\n",
    "\n",
    "import numpy as np\n",
    "zero_2d_array = np.zeros((3, 3))\n",
    "print(zero_2d_array)"
   ]
  },
  {
   "cell_type": "code",
   "execution_count": 21,
   "id": "25c6d4f8-1ace-47fe-969f-e20b5ec86f41",
   "metadata": {},
   "outputs": [
    {
     "name": "stdout",
     "output_type": "stream",
     "text": [
      "[[1 0 0 0 0]\n",
      " [0 1 0 0 0]\n",
      " [0 0 1 0 0]\n",
      " [0 0 0 1 0]\n",
      " [0 0 0 0 1]]\n"
     ]
    }
   ],
   "source": [
    "#Ans 6:\n",
    "\n",
    "import numpy as np\n",
    "identity_matrix = np.identity(5,dtype=\"int\")\n",
    "print(identity_matrix)\n",
    "\n"
   ]
  },
  {
   "cell_type": "code",
   "execution_count": null,
   "id": "903476fe-1971-4dd3-94ff-4ed7f7133892",
   "metadata": {},
   "outputs": [],
   "source": []
  },
  {
   "cell_type": "code",
   "execution_count": null,
   "id": "c8c4b6db-5598-46a6-87ab-11130f535bd8",
   "metadata": {},
   "outputs": [],
   "source": []
  }
 ],
 "metadata": {
  "kernelspec": {
   "display_name": "Python 3 (ipykernel)",
   "language": "python",
   "name": "python3"
  },
  "language_info": {
   "codemirror_mode": {
    "name": "ipython",
    "version": 3
   },
   "file_extension": ".py",
   "mimetype": "text/x-python",
   "name": "python",
   "nbconvert_exporter": "python",
   "pygments_lexer": "ipython3",
   "version": "3.10.8"
  }
 },
 "nbformat": 4,
 "nbformat_minor": 5
}
