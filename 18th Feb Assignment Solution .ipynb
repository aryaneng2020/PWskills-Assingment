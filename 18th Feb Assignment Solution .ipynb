{
 "cells": [
  {
   "cell_type": "code",
   "execution_count": 2,
   "id": "64ad56ea-dd06-4e1b-8467-69ae8a08e7b4",
   "metadata": {},
   "outputs": [],
   "source": [
    "#18th Feb Assignment Solution "
   ]
  },
  {
   "cell_type": "code",
   "execution_count": null,
   "id": "078f1bb4-8464-477a-9022-e57f20d34f12",
   "metadata": {},
   "outputs": [],
   "source": [
    "#Ans 1:\n",
    "'''An API, or application programming interface, is a set of defined rules that enable different applications to communicate with each other. \n",
    "It acts as an intermediary layer that processes data transfers between systems, letting companies open their application data and functionality\n",
    "to external third-party developers, business partners, and internal departments within their companies.\n",
    "\n",
    "1.Public API examples include social media bots, third-party login, e-commerce transactions, and weather apps.\n",
    "2.Private API examples include streaming services, ensuring media compatibility on various devices, and financial apps that \n",
    "connect different aspects of managing finances in a bank.\n",
    "'''\n"
   ]
  },
  {
   "cell_type": "code",
   "execution_count": null,
   "id": "d279bf21-aadb-4fdd-b563-14875d0d7494",
   "metadata": {},
   "outputs": [],
   "source": [
    "#Ans 2:\n",
    "'''Advantages of using API \n",
    "1. Improved performance\n",
    "2. Simplified system design\n",
    "3. Enhanced security\n",
    "4. Improved scalability\n",
    "5. Better monitoring and visibility\n",
    "6. Simplified Client Integration\n",
    "7. Protocol and Data Format Transformation\n",
    "8. API Versioning and Backward Compatibility\n",
    "9. Enhanced Error Handling\n",
    "10. Load Balancing and Fault Tolerance\n",
    "\n",
    "Disadvantages of using API \n",
    "1. Additional Complexity\n",
    "2. Single Point of Failure\n",
    "3. Latency\n",
    "4. Vendor Lock-in\n",
    "5. Cost\n",
    "6. Maintenance Overhead\n",
    "7. Configuration Complexity\n"
   ]
  },
  {
   "cell_type": "code",
   "execution_count": null,
   "id": "667f5203-9dea-4af9-a289-2a5d2727cfa5",
   "metadata": {},
   "outputs": [],
   "source": [
    "#Ans 3:\n",
    "'''API stands for Application Programming Interface.\n",
    "A Web API is an application programming interface for the Web.\n",
    "A Browser API can extend the functionality of a web browser.\n",
    "A Server API can extend the functionality of a web server.\n",
    "\n",
    "Differentiate between API and Web API.\n",
    "\n",
    "1.Web services require SOAP and XML to transfer data over a network, while APIs can use any protocols or design patterns.\n",
    "2.APIs allow applications to communicate, while web services allow machines to communicate.\n",
    "3.Web Services requires a network connection while APIs may or may not require a network for their operability.\n",
    "4.Web services require SOAP and XML, which are no longer the most popular standard.\n",
    "5.APIs are more efficient, with RESTful web services offering a more light-weight architecture web services are heavy.\n",
    "6.Web services only support HTTP as a backbone, while APIs are more flexible.\n",
    "\n",
    "'''\n"
   ]
  },
  {
   "cell_type": "code",
   "execution_count": null,
   "id": "6a8237de-ef42-4523-bc75-a983c1d952cb",
   "metadata": {},
   "outputs": [],
   "source": [
    "#Ans 4:\n",
    "\n",
    "'''\n",
    "SOAP is a protocol that defines rigid communication rules. It has several associated standards that control every aspect of the data exchange. \n",
    "For example, here are some standards SOAP uses:\n",
    "\n",
    "Web Services Security (WS-Security) specifies security measures like using unique identifiers called tokens\n",
    "Web Services Addressing (WS-Addressing) requires including routing information as metadata\n",
    "WS-ReliableMessaging standardizes error handling in SOAP messaging\n",
    "Web Services Description Language (WSDL) describes the scope and function of SOAP web services\n",
    "When you send a request to a SOAP API, you must wrap your HTTP request in a SOAP envelope. \n",
    "This is a data structure that modifies the underlying HTTP content with SOAP request requirements. \n",
    "Due to the envelope, you can also send requests to SOAP web services with other transport protocols, \n",
    "like TCP or Internet Control Message Protocol (ICMP).\n",
    "However, SOAP APIs and SOAP web services always return XML documents in their responses.\n",
    "\n",
    "\n",
    "REST is a software architectural style that imposes six conditions on how an API should work. These are the six principles REST APIs follow:\n",
    "\n",
    "Client-server architecture. The sender and receiver are independent of each other regarding technology, platforming, programming language, and so on.\n",
    "Layered. The server can have several intermediaries that work together to complete client requests, but they are invisible to the client.\n",
    "Uniform interface. The API returns data in a standard format that is complete and fully useable.\n",
    "Stateless. The API completes every new request independently of previous requests.\n",
    "Cacheable. All API responses are cacheable.\n",
    "Code on demand. The API response can include a code snippet if required.\n",
    "\n",
    "Shortcomings of SOAP:-\n",
    "\n",
    "1.Resource-consuming\n",
    "2.Hard learning curve\n",
    "3.Lacks flexibility\n",
    "\n",
    "'''"
   ]
  },
  {
   "cell_type": "code",
   "execution_count": 1,
   "id": "905d350f-f648-4c36-81f9-52a8e0a95751",
   "metadata": {},
   "outputs": [],
   "source": [
    "#Ans 5:\n",
    "'''\n",
    "1.SOAP stands for Simple Object Access Protocol and REST stands for Representational State Transfer.\n",
    "\n",
    "2.Since SOAP is a protocol, it follows a strict standard to allow communication between the client and the server whereas \n",
    "REST is an architectural style that doesn’t follow any strict standard but follows six constraints defined by Roy Fielding in 2000.\n",
    "Those constraints are – Uniform Interface, Client-Server, Stateless, Cacheable, Layered System, Code on Demand.\n",
    "\n",
    "3.SOAP uses only XML for exchanging information in its message format whereas REST is not restricted to XML and its the choice of implementer \n",
    "which Media-Type to use like XML, JSON, Plain-text. Moreover, REST can use SOAP protocol but SOAP cannot use REST.\n",
    "\n",
    "4.On behalf of services interfaces to business logic, SOAP uses @WebService whereas REST instead of using interfaces uses URI like @Path.\n",
    "\n",
    "5.SOAP is difficult to implement and it requires more bandwidth whereas REST is easy to implement and requires less bandwidth such as smartphones.\n",
    "\n",
    "6.Benefits of SOAP over REST as SOAP has ACID compliance transaction. Some of the applications require transaction ability \n",
    "which is accepted by SOAP whereas REST lacks in it.\n",
    "\n",
    "7.On the basis of Security, SOAP has SSL( Secure Socket Layer) and WS-security whereas REST has SSL and HTTPS. \n",
    "In the case of Bank Account Password, Card Number, etc. SOAP is preferred over REST. \n",
    "The security issue is all about your application requirement, you have to build security on your own. \n",
    "It’s about what type of protocol you use.\n",
    "\n",
    "8.SOAP cannot make use of REST since SOAP is a protocol without any architectural pattern.\n",
    "REST can make use of SOAP because it is an architectural pattern having protocol.\n",
    "\n",
    "\n",
    "'''"
   ]
  },
  {
   "cell_type": "code",
   "execution_count": null,
   "id": "de3f1446-3582-49cb-8ecb-0e5847f35f55",
   "metadata": {},
   "outputs": [],
   "source": []
  },
  {
   "cell_type": "code",
   "execution_count": null,
   "id": "494c20ce-1523-483c-8381-19dafdc1f12d",
   "metadata": {},
   "outputs": [],
   "source": []
  }
 ],
 "metadata": {
  "kernelspec": {
   "display_name": "Python 3 (ipykernel)",
   "language": "python",
   "name": "python3"
  },
  "language_info": {
   "codemirror_mode": {
    "name": "ipython",
    "version": 3
   },
   "file_extension": ".py",
   "mimetype": "text/x-python",
   "name": "python",
   "nbconvert_exporter": "python",
   "pygments_lexer": "ipython3",
   "version": "3.10.8"
  }
 },
 "nbformat": 4,
 "nbformat_minor": 5
}
