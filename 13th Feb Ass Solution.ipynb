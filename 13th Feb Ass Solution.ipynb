{
 "cells": [
  {
   "cell_type": "code",
   "execution_count": null,
   "id": "de644fb8-d47f-4eca-8588-7f05530da5af",
   "metadata": {},
   "outputs": [],
   "source": [
    "#13th Feb Assignment Solution"
   ]
  },
  {
   "cell_type": "code",
   "execution_count": null,
   "id": "f50d67f9-122c-4e19-a194-14e740b5e952",
   "metadata": {},
   "outputs": [],
   "source": [
    "#Ans 1:\n",
    "'''\n",
    "Custom exceptions are helpful in many situations. They allow you to define your own error conditions and handle them in a more specific\n",
    "and meaningful way. For example, let's say you are writing a program that reads data from a file.\n",
    "If the file is not found, Python will raise a FileNotFoundError. \n",
    "'''"
   ]
  },
  {
   "cell_type": "code",
   "execution_count": null,
   "id": "2d1ebc4e-3dd5-4f7e-830f-a4f65bb9bf88",
   "metadata": {},
   "outputs": [],
   "source": [
    "#Ans 2:\n",
    "# import inspect module \n",
    "import inspect \n",
    "\n",
    "# our treeClass function \n",
    "def treeClass(cls, ind = 0): \n",
    "\t\n",
    "\t# print name of the class \n",
    "\tprint ('-' * ind, cls.__name__) \n",
    "\t\n",
    "\t# iterating through subclasses \n",
    "\tfor i in cls.__subclasses__(): \n",
    "\t\ttreeClass(i, ind + 3) \n",
    "\n",
    "print(\"Hierarchy for Built-in exceptions is : \") \n",
    "\n",
    "# inspect.getmro() Return a tuple \n",
    "# of class cls’s base classes. \n",
    "\n",
    "# building a tree hierarchy \n",
    "inspect.getclasstree(inspect.getmro(BaseException)) \n",
    "\n",
    "# function call \n",
    "treeClass(BaseException) \n"
   ]
  },
  {
   "cell_type": "code",
   "execution_count": null,
   "id": "86bae58a-84bf-4794-b2fb-e948ebadee92",
   "metadata": {},
   "outputs": [],
   "source": [
    "#Ans 3:\n",
    "'''exception ArithmeticError:\n",
    "\n",
    "The base class for those built-in exceptions that are raised for various arithmetic errors: \n",
    "OverflowError, ZeroDivisionError, FloatingPointError.\n",
    "'''\n",
    "# Define a function named 'division' that takes 'dividend' and 'divisor' as parameters.\n",
    "def division(dividend, divisor):\n",
    "    try:\n",
    "        # Try to perform the division operation and store the result in the 'result' variable.\n",
    "        result = dividend / divisor\n",
    "        # Print the result of the division.\n",
    "        print(\"Result:\", result)\n",
    "    except ArithmeticError:\n",
    "        # Handle the exception if an ArithmeticError occurs during the division operation.\n",
    "        print(\"Error: Arithmetic error occurred!\")\n",
    "\n",
    "# Usage\n",
    "\n",
    "# Prompt the user to input the dividend and store it as a floating-point number in the 'dividend' variable.\n",
    "dividend = float(input(\"Input the dividend: \"))\n",
    "# Prompt the user to input the divisor and store it as a floating-point number in the 'divisor' variable.\n",
    "divisor = float(input(\"Input the divisor: \"))\n",
    "# Call the 'division' function with the provided dividend and divisor.\n",
    "division(dividend, divisor) "
   ]
  },
  {
   "cell_type": "code",
   "execution_count": null,
   "id": "4a30b96c-9933-4558-80da-fecf78783b7e",
   "metadata": {},
   "outputs": [],
   "source": [
    "#Ans 4 \n",
    "'''LookupError Exception is the Base class for errors raised when something can’t be found. The base class for the exceptions that are \n",
    "raised when a key or index used on a mapping or sequence is invalid:IndexError, KeyError.\n",
    "'''\n",
    "import sys\n",
    "try:\n",
    "foo = [a, s, d, f, g]\n",
    "print foo[5]\n",
    "except IndexError as e:\n",
    "print e\n",
    "print sys.exc_type\n",
    "\n",
    "\n",
    "import sys\n",
    "try:\n",
    "s = {'a':5, 'b':7}['c']\n",
    "\n",
    "except:\n",
    "print (sys.exc_info())"
   ]
  },
  {
   "cell_type": "code",
   "execution_count": null,
   "id": "8ea3b401-fcbd-457a-8374-017dde873575",
   "metadata": {},
   "outputs": [],
   "source": [
    "#Ans 5:\n",
    "'''An ImportError occurs when you try to import a module that has dependencies that are\n",
    "missing or cannot be imported. The error message shows the name of the module\n",
    "that caused the ImportError.\n",
    "\n",
    "When you import a module that does not exist or misspell the module name, Python raises a ModuleNotFoundError. \n",
    "This error occurs when Python cannot find \n",
    "the specified module. The error message shows the name of the module that Python cannot locate.\n",
    "'''\n"
   ]
  },
  {
   "cell_type": "code",
   "execution_count": null,
   "id": "32d8b0f6-9170-4823-93d5-84daa7fb531f",
   "metadata": {},
   "outputs": [],
   "source": [
    "#Ans 6:\n",
    "'''\n",
    "Best Practices for Exception Handling\n",
    "Here are some best practices for handling exceptions in Python projects:\n",
    "\n",
    "->Always catch exceptions that you know how to handle and let the rest propagate up.\n",
    "->Use the most specific exceptions possible in your except clauses.\n",
    "->Avoid catching the base Exception class, as this can mask real issues in your code.\n",
    "->Use the finally clause for cleanup actions that must always be completed.\n",
    "'''"
   ]
  }
 ],
 "metadata": {
  "kernelspec": {
   "display_name": "Python 3 (ipykernel)",
   "language": "python",
   "name": "python3"
  },
  "language_info": {
   "codemirror_mode": {
    "name": "ipython",
    "version": 3
   },
   "file_extension": ".py",
   "mimetype": "text/x-python",
   "name": "python",
   "nbconvert_exporter": "python",
   "pygments_lexer": "ipython3",
   "version": "3.10.8"
  }
 },
 "nbformat": 4,
 "nbformat_minor": 5
}
