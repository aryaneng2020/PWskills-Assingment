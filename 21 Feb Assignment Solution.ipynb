{
 "cells": [
  {
   "cell_type": "code",
   "execution_count": 1,
   "id": "cc50f595-f1fe-4d06-a04f-d3f306a7a6b8",
   "metadata": {},
   "outputs": [],
   "source": [
    "#21 Feb Assignment Solution"
   ]
  },
  {
   "cell_type": "code",
   "execution_count": null,
   "id": "9aeb6d06-6699-425e-be98-967c889641bc",
   "metadata": {},
   "outputs": [],
   "source": [
    "#ANS 1:\n",
    "'''Web scraping is an automatic method to obtain large amounts of data from websites. Most of this data is unstructured data in an \n",
    "HTML format which is then converted into structured data in a spreadsheet or a database so that it can be used in various applications. \n",
    "There are many different ways to perform web scraping to obtain data from websites. These include using online services, particular API’s \n",
    "or even creating your code for web scraping from scratch. \n",
    "Many large websites, like Google, Twitter, Facebook, StackOverflow, etc. have API’s that allow you to access\n",
    "their data in a structured format.\n",
    "\n",
    "Data scraping has numerous applications across many industries—including insurance, banking, finance, trading, eCommerce,\n",
    "sports, and digital marketing. Data is also used to inform decision-making, \n",
    "generate leads and sales, manage risks, guide strategies, and create new products and services.\n",
    "\n",
    "\n",
    "Areas where Web Scraping is used to get data:-\n",
    "\n",
    "1.Price Intelligence\n",
    "2.Market Research\n",
    "3.Business Automation\n",
    "4.Real Estate\n",
    "\n",
    "'''"
   ]
  },
  {
   "cell_type": "code",
   "execution_count": null,
   "id": "6b0334b0-369e-4bd9-92c0-90eb3d2bdfcb",
   "metadata": {},
   "outputs": [],
   "source": [
    "#Ans 2:\n",
    "'''\n",
    "Different Techniques  used for Web Scraping:-\n",
    "\n",
    "Human copy-and-paste. The simplest form of web scraping is manually copying and pasting data from a web page into a text file or spreadsheet. ...\n",
    "Text pattern matching. ...\n",
    "HTTP programming. ...\n",
    "HTML parsing. ...\n",
    "DOM parsing. ...\n",
    "Vertical aggregation. ...\n",
    "Semantic annotation recognizing. ...\n",
    "Computer vision web-page analysis.\n",
    "\n",
    "'''"
   ]
  },
  {
   "cell_type": "code",
   "execution_count": null,
   "id": "719ed91a-7827-4445-b665-58bb26a4e574",
   "metadata": {},
   "outputs": [],
   "source": [
    "#Ans 3:\n",
    "'''\n",
    "Beautiful Soup is a Python package for parsing HTML and XML documents. It creates a parse tree for parsed web pages based on \n",
    "specific criteria that can be used to extract, navigate, search, and modify data from HTML, which is mostly used for web scraping\n",
    "'''"
   ]
  },
  {
   "cell_type": "code",
   "execution_count": null,
   "id": "191b5734-3652-4433-bf78-a96eb620386f",
   "metadata": {},
   "outputs": [],
   "source": [
    "#Ans 4:\n",
    "'''\n",
    "Flask provides a simple and consistent interface to the incoming HTTP request data. From accessing form data, file uploads, cookies,\n",
    "and headers to handling JSON data, Flask's request handling capabilities make it easy to build robust and secure web applications.\n",
    "'''"
   ]
  },
  {
   "cell_type": "code",
   "execution_count": null,
   "id": "896d4db8-e5a8-4e48-9f6d-435fe9e45d21",
   "metadata": {},
   "outputs": [],
   "source": [
    "#Ans 5:\n",
    "'''\n",
    "The AWS Management Console is a web-based application that lets users access the broad range of services included \n",
    "in the Amazon Web Services (AWS) platform. It also provides easy navigation and centralized access to these services.\n",
    "\n",
    "The built-in interface of the AWS Management Console enables customers to perform certain AWS-related tasks such as \n",
    "provisioning resources, launching instances, setting up load balancers and creating or managing Amazon Simple Storage Service (S3) buckets. \n",
    "Users can customize the Console Home page by adding, removing and rearranging widgets, such as \"Recently visited,\" \n",
    "\"AWS Health\" and \"AWS Trusted Advisor.\"\n",
    "\n",
    "\n",
    "\n",
    "AWS Elastic Beanstalk\n",
    "\n",
    "AWS Elastic Beanstalk AWS Service  This AWS service supports running and managing web applications. \n",
    "Elastic Beanstalk allows for the easy deployment of applications from capacity provisioning, load balancing, and auto-scaling \n",
    "to application health monitoring. With its auto-scaling properties, this service simplifies demands in scaling to adjust to the \n",
    "needs of the business. It helps to manage peaks in workloads and traffic with minimum costs. Basically,\n",
    "AWS Elastic Beanstalk is a developer-friendly tool since it manages servers,\n",
    "load balancers, firewalls, and networks simply. As a result, this service allows developers to show much more focus on coding.\n",
    "'''"
   ]
  },
  {
   "cell_type": "code",
   "execution_count": null,
   "id": "f98a08a2-7909-46e0-816d-5f6ac7089ee6",
   "metadata": {},
   "outputs": [],
   "source": []
  },
  {
   "cell_type": "code",
   "execution_count": null,
   "id": "0cc4b468-1b87-4249-9154-2f9e1af74578",
   "metadata": {},
   "outputs": [],
   "source": []
  }
 ],
 "metadata": {
  "kernelspec": {
   "display_name": "Python 3 (ipykernel)",
   "language": "python",
   "name": "python3"
  },
  "language_info": {
   "codemirror_mode": {
    "name": "ipython",
    "version": 3
   },
   "file_extension": ".py",
   "mimetype": "text/x-python",
   "name": "python",
   "nbconvert_exporter": "python",
   "pygments_lexer": "ipython3",
   "version": "3.10.8"
  }
 },
 "nbformat": 4,
 "nbformat_minor": 5
}
