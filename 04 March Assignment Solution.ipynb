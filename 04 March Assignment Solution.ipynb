{
 "cells": [
  {
   "cell_type": "code",
   "execution_count": null,
   "id": "2394b65f-e828-4914-9e2d-58738a251e3f",
   "metadata": {},
   "outputs": [],
   "source": [
    "#04 March Assignment Solution"
   ]
  },
  {
   "cell_type": "code",
   "execution_count": null,
   "id": "e0532839-9150-47cd-8e87-0628947976f6",
   "metadata": {},
   "outputs": [],
   "source": [
    "#Ans 1:\n",
    "import seaborn as sns\n",
    "import matplotlib.pyplot as plt\n",
    "import plotly.graph_objects as go\n",
    "\n",
    "titanic_data = sns.load_dataset(\"titanic\")\n",
    "\n",
    "\n",
    "plt.figure(figsize=(10, 6))\n",
    "fig = go.Figure()\n",
    "fig.add_trace(go.Scatter(x=titanic_data.age, y=titanic_data.fare, mode=\"markers\"))\n",
    "fig.show()"
   ]
  },
  {
   "cell_type": "code",
   "execution_count": null,
   "id": "1bd0cd31-719c-4ae2-8e76-e8cae5d496a5",
   "metadata": {},
   "outputs": [],
   "source": [
    "#Ans 2:\n",
    "import plotly.express as px\n",
    "import seaborn as sns\n",
    "\n",
    "tips = sns.load_dataset('tips')\n",
    "\n",
    "fig = px.box(tips, x='day', y='total_bill', title='Box Plot of Total Bill by Day')\n",
    "fig.show()"
   ]
  },
  {
   "cell_type": "code",
   "execution_count": null,
   "id": "45b230d6-fb4e-44ed-a56e-3ab15f15cef9",
   "metadata": {},
   "outputs": [],
   "source": [
    "#Ans 3:\n",
    "import plotly.express as px\n",
    "import seaborn as sns\n",
    "\n",
    "tips = sns.load_dataset('tips')\n",
    "\n",
    "fig = px.histogram(tips, x=\"sex\", y=\"total_bill\", color=\"day\", \n",
    "                   pattern_shape=\"smoker\", title=\"Histogram of Total Bill by Sex\",\n",
    "                   labels={\"sex\": \"Sex\", \"total_bill\": \"Total Bill\", \"day\": \"Day\", \"smoker\": \"Smoker\"})\n",
    "fig.show()\n"
   ]
  },
  {
   "cell_type": "code",
   "execution_count": null,
   "id": "9081c2c3-ae0e-4468-b88a-bdb6c0b36cab",
   "metadata": {},
   "outputs": [],
   "source": [
    "#Ans 4:\n",
    "import plotly.express as px\n",
    "import seaborn as sns\n",
    "\n",
    "iris = sns.load_dataset('iris')\n",
    "\n",
    "fig = px.scatter_matrix(iris, dimensions=[\"sepal_length\", \"sepal_width\", \"petal_length\", \"petal_width\"],\n",
    "                        color=\"species\", title=\"Scatter Matrix Plot of Iris Dataset\")\n",
    "fig.show()"
   ]
  },
  {
   "cell_type": "code",
   "execution_count": null,
   "id": "c26a90a9-e6eb-4227-82dc-5512aa20135a",
   "metadata": {},
   "outputs": [],
   "source": [
    "#Ans 5:\n",
    "import plotly.express as px\n",
    "import seaborn as sns\n",
    "\n",
    "tips = sns.load_dataset('tips')\n",
    "\n",
    "\n",
    "fig = px.histogram(tips, x=\"total_bill\", marginal=\"rug\", title=\"Distribution of Total Bill\")\n",
    "fig.show()"
   ]
  },
  {
   "cell_type": "code",
   "execution_count": null,
   "id": "77ff71b8-2ce7-4890-8e27-dd24185ec5ec",
   "metadata": {},
   "outputs": [],
   "source": [
    "\n"
   ]
  }
 ],
 "metadata": {
  "kernelspec": {
   "display_name": "Python 3 (ipykernel)",
   "language": "python",
   "name": "python3"
  },
  "language_info": {
   "codemirror_mode": {
    "name": "ipython",
    "version": 3
   },
   "file_extension": ".py",
   "mimetype": "text/x-python",
   "name": "python",
   "nbconvert_exporter": "python",
   "pygments_lexer": "ipython3",
   "version": "3.10.8"
  }
 },
 "nbformat": 4,
 "nbformat_minor": 5
}
