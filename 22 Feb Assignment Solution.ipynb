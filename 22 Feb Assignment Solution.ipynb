{
 "cells": [
  {
   "cell_type": "code",
   "execution_count": 1,
   "id": "b5c86331-62d8-41f0-9609-a49fd5b4d4e5",
   "metadata": {},
   "outputs": [],
   "source": [
    "#22 Feb Assignment Solution"
   ]
  },
  {
   "cell_type": "code",
   "execution_count": null,
   "id": "d6ed0df0-a17c-428c-a639-c36e0b4bd387",
   "metadata": {},
   "outputs": [],
   "source": [
    "#Ans 1:\n",
    "import requests\n",
    "from bs4 import BeautifulSoup\n",
    "\n",
    "url = \"https://www.youtube.com/@PW-Foundation/videos\"\n",
    "\n",
    "response = requests.get(url)\n",
    "html_content = response.content\n",
    "\n",
    "soup = BeautifulSoup(html_content, \"html.parser\")\n",
    "\n",
    "video_links = soup.find_all(\"a\", {\"class\": \"yt-simple-endpoint style-scope ytd-grid-video-renderer\"})\n",
    "video_urls = [\"https://www.youtube.com\" + link[\"href\"] for link in video_links][:5]\n",
    "\n",
    "for i, video_url in enumerate(video_urls, start=1):\n",
    "    print(f\"Video {i}: {video_url}\")\n"
   ]
  },
  {
   "cell_type": "code",
   "execution_count": 1,
   "id": "43e4d5db-6230-40ef-b368-91d32da59866",
   "metadata": {},
   "outputs": [],
   "source": [
    "#Ans 2:\n",
    "\n",
    "video_ids = [url.split(\"v=\")[1] for url in video_urls]\n",
    "\n",
    "thumbnail_urls = [f\"https://i.ytimg.com/vi/{video_id}/maxresdefault.jpg\" for video_id in video_ids]\n",
    "\n",
    "for i, thumbnail_url in enumerate(thumbnail_urls, start=1):\n",
    "    print(f\"Thumbnail {i}: {thumbnail_url}\")\n"
   ]
  },
  {
   "cell_type": "code",
   "execution_count": 2,
   "id": "66d037d0-28b8-4c3f-9d2c-c089f1e75b68",
   "metadata": {},
   "outputs": [],
   "source": [
    "#Ans 3:\n",
    "video_titles = []\n",
    "for url in video_urls:\n",
    "    response = requests.get(url)\n",
    "    soup = BeautifulSoup(response.content, \"html.parser\")\n",
    "    title_tag = soup.find(\"meta\", {\"name\": \"title\"})\n",
    "    video_titles.append(title_tag[\"content\"])\n",
    "\n",
    "for i, title in enumerate(video_titles, start=1):\n",
    "    print(f\"Title {i}: {title}\")"
   ]
  },
  {
   "cell_type": "code",
   "execution_count": 3,
   "id": "5b7b2da0-6a38-4b7e-8587-f4928ef75fff",
   "metadata": {},
   "outputs": [],
   "source": [
    "#Ans 4:\n",
    "video_views = []\n",
    "for url in video_urls:\n",
    "    response = requests.get(url)\n",
    "    soup = BeautifulSoup(response.content, \"html.parser\")\n",
    "    view_count_tag = soup.find(\"span\", {\"class\": \"view-count\"})\n",
    "    video_views.append(view_count_tag.text.strip())\n",
    "\n",
    "for i, views in enumerate(video_views, start=1):\n",
    "    print(f\"Views for Video {i}: {views}\")\n"
   ]
  },
  {
   "cell_type": "code",
   "execution_count": 4,
   "id": "be627be0-f79c-4b4e-ae63-6791ca86526e",
   "metadata": {},
   "outputs": [],
   "source": [
    "#Ans 5:\n",
    "video_posting_times = []\n",
    "for url in video_urls:\n",
    "    response = requests.get(url)\n",
    "    soup = BeautifulSoup(response.content, \"html.parser\")\n",
    "    time_tag = soup.find(\"span\", {\"class\": \"date\"})\n",
    "    video_posting_times.append(time_tag.text.strip())\n",
    "\n",
    "for i, posting_time in enumerate(video_posting_times, start=1):\n",
    "    print(f\"Posting Time for Video {i}: {posting_time}\")"
   ]
  },
  {
   "cell_type": "code",
   "execution_count": null,
   "id": "9e3ad803-98d8-4719-80bf-b7fdc42315c3",
   "metadata": {},
   "outputs": [],
   "source": []
  },
  {
   "cell_type": "code",
   "execution_count": null,
   "id": "9e3d5ade-79d6-4287-9763-714e25a4d425",
   "metadata": {},
   "outputs": [],
   "source": []
  }
 ],
 "metadata": {
  "kernelspec": {
   "display_name": "Python 3 (ipykernel)",
   "language": "python",
   "name": "python3"
  },
  "language_info": {
   "codemirror_mode": {
    "name": "ipython",
    "version": 3
   },
   "file_extension": ".py",
   "mimetype": "text/x-python",
   "name": "python",
   "nbconvert_exporter": "python",
   "pygments_lexer": "ipython3",
   "version": "3.10.8"
  }
 },
 "nbformat": 4,
 "nbformat_minor": 5
}
