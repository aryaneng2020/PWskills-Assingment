{
 "cells": [
  {
   "cell_type": "code",
   "execution_count": null,
   "id": "0eded024-ab42-4b23-a973-ec47336fec9e",
   "metadata": {},
   "outputs": [],
   "source": [
    "#10 March Assignment Solution"
   ]
  },
  {
   "cell_type": "code",
   "execution_count": null,
   "id": "03252929-f446-48a7-ab3d-be25cb8f9e16",
   "metadata": {},
   "outputs": [],
   "source": [
    "#ans 1:\n",
    "'''\n",
    "Estimation statistics involves estimating population parameters (such as the mean, variance, proportion, etc.) based on sample data. \n",
    "There are two main types of estimates:\n",
    "\n",
    "1.Point Estimate: A point estimate is a single value that serves as the best guess for the population parameter.\n",
    "It's usually calculated using a statistic from the sample data. For example, the sample mean (x)is often used as a \n",
    "point estimate for the population mean (μ).\n",
    "\n",
    "2.Interval Estimate: An interval estimate provides a range of values within which the population parameter is likely to lie, \n",
    "along with a level of confidence associated with that range. This is typically expressed as a confidence interval. \n",
    "For example, a 95% confidence interval for the population mean might be (55, 65), indicating that we are 95% confident \n",
    "that the true population mean falls within this range.\n",
    "\n",
    "'''"
   ]
  },
  {
   "cell_type": "code",
   "execution_count": null,
   "id": "69a7eefc-0637-4c36-8a92-83f73d329906",
   "metadata": {},
   "outputs": [],
   "source": [
    "#ANs 2:\n",
    "def estimate_population_mean(sample_mean, sample_std_dev, sample_size):\n",
    "    import math\n",
    "    standard_error = sample_std_dev / math.sqrt(sample_size)\n",
    "    margin_of_error = 1.96 * standard_error  # For a 95% confidence interval\n",
    "    lower_bound = sample_mean - margin_of_error\n",
    "    upper_bound = sample_mean + margin_of_error\n",
    "    return (lower_bound, upper_bound)\n",
    "\n",
    "# Example usage:\n",
    "sample_mean = 500\n",
    "sample_std_dev = 50\n",
    "sample_size = 50\n",
    "confidence_interval = estimate_population_mean(sample_mean, sample_std_dev, sample_size)\n",
    "print(\"Estimated population mean revenue with a 95% confidence interval:\", confidence_interval)\n"
   ]
  },
  {
   "cell_type": "code",
   "execution_count": null,
   "id": "b09456f1-9b50-4fee-b605-e487c52ee200",
   "metadata": {},
   "outputs": [],
   "source": [
    "#Ans 3:\n",
    "'''\n",
    "Hypothesis testing is a statistical method used to make inferences about population parameters based on sample data. \n",
    "It involves making a decision about whether to reject or fail to reject a null hypothesis, usually in comparison to an alternative hypothesis. \n",
    "Hypothesis testing is important because it allows researchers to draw conclusions about the population based on limited sample data,\n",
    "helping to make informed decisions and draw valid conclusions from experiments or observational studies.\n",
    "'''"
   ]
  },
  {
   "cell_type": "code",
   "execution_count": null,
   "id": "aef47ad0-48de-4e88-8248-e889cb0aa878",
   "metadata": {},
   "outputs": [],
   "source": [
    "#Ans 4:\n",
    "'''\n",
    "Null Hypothesis (Ho): The average weight of male college students is not greater than the average weight of female college students.\n",
    "Alternative Hypothesis (H1): The average weight of male college students is greater than the average weight of female college students.\n",
    "\n",
    "'''"
   ]
  },
  {
   "cell_type": "code",
   "execution_count": null,
   "id": "cb92802e-6b73-4803-b5f3-919b9b34f258",
   "metadata": {},
   "outputs": [],
   "source": [
    "#Ans 5:\n",
    "import numpy as np\n",
    "from scipy.stats import ttest_ind\n",
    "\n",
    "# Sample data for male and female weights\n",
    "male_weights = [70, 75, 80, 85, 90]  # Sample of weights of male college students\n",
    "female_weights = [55, 60, 65, 70, 75]  # Sample of weights of female college students\n",
    "\n",
    "# Conduct independent t-test\n",
    "t_statistic, p_value = ttest_ind(male_weights, female_weights)\n",
    "\n",
    "# Output the results\n",
    "print(\"t-statistic:\", t_statistic)\n",
    "print(\"p-value:\", p_value)"
   ]
  },
  {
   "cell_type": "code",
   "execution_count": null,
   "id": "692f0563-5f0f-43d2-b454-f7b049b1adf8",
   "metadata": {},
   "outputs": [],
   "source": [
    "#Ans 6:\n",
    "'''\n",
    "Null Hypothesis (Ho): It is a statement that assumes that there is no significant difference or relationship between variables. \n",
    "It is typically denoted as Ho.\n",
    "\n",
    "Example: The mean score of Group A is equal to the mean score of Group B.\n",
    "\n",
    "Alternative Hypothesis (H1 or Ha): It is a statement that contradicts the null hypothesis and suggests that \n",
    "there is a significant difference or relationship between variables. It is what the researcher is trying to prove.\n",
    "\n",
    "Example: The mean score of Group A is greater than the mean score of Group B.\n",
    "\n",
    "'''"
   ]
  },
  {
   "cell_type": "code",
   "execution_count": null,
   "id": "5dde939e-c770-4ed2-b482-cf4b3a3f8efb",
   "metadata": {},
   "outputs": [],
   "source": [
    "#ANS 7:\n",
    "'''\n",
    "1.Formulate Hypotheses: Define the null hypothesis (Ho) and the alternative hypothesis (H1).\n",
    "\n",
    "2.Select Significance Level (α): Choose the level of significance, which is typically set at 0.05 or 0.01.\n",
    "\n",
    "3.Collect Data: Gather data from a sample or samples.\n",
    "\n",
    "4.Calculate Test Statistic: Compute the appropriate test statistic based on the hypothesis being tested.\n",
    "\n",
    "5.Determine Critical Value or p-value: Determine the critical value from the distribution of the test statistic or calculate the p-value.\n",
    "\n",
    "6.Make Decision: Compare the test statistic to the critical value or p-value. If the test statistic falls in the rejection region \n",
    "(or if the p-value is less than α), reject the null hypothesis; otherwise, fail to reject the null hypothesis.\n",
    "\n",
    "7.Draw Conclusion: Based on the decision made in step 6, draw a conclusion about the null hypothesis and state whether \n",
    "there is enough evidence to support the alternative hypothesis.\n",
    "\n",
    "'''"
   ]
  },
  {
   "cell_type": "code",
   "execution_count": null,
   "id": "fee31707-1c03-4dcd-b236-6503ea21f5c6",
   "metadata": {},
   "outputs": [],
   "source": [
    "#ans 8:\n",
    "'''\n",
    "p-value: The p-value is the probability of obtaining a test statistic as extreme as or more extreme than the one observed in the sample data, \n",
    "assuming that the null hypothesis is true. In other words, it represents the probability of observing the data or more extreme\n",
    "data if the null hypothesis is correct.\n",
    "\n",
    "Significance of the p-value:\n",
    "\n",
    "*If the p-value is less than the chosen significance level (α), typically 0.05, then we reject\n",
    "the null hypothesis in favorof the alternative hypothesis.\n",
    "\n",
    "*A smaller p-value indicates stronger evidence against the null hypothesis, \n",
    "suggesting that the observed effect is unlikely to have occurred by chance.\n",
    "\n",
    "*The p-value provides a quantitative measure of the strength of evidence against the null hypothesis, \n",
    "allowing researchers to make informed decisions about the hypotheses being tested.\n",
    "\n",
    "'''"
   ]
  },
  {
   "cell_type": "code",
   "execution_count": null,
   "id": "313c6bbe-7408-48fd-9e34-dff544e22959",
   "metadata": {},
   "outputs": [],
   "source": [
    "#Ans 9:\n",
    "import numpy as np\n",
    "import matplotlib.pyplot as plt\n",
    "from scipy.stats import t\n",
    "\n",
    "df = 10  # Degrees of freedom\n",
    "\n",
    "x = np.linspace(t.ppf(0.001, df), t.ppf(0.999, df), 100)\n",
    "plt.plot(x, t.pdf(x, df), 'r-', lw=2, label='t-distribution (df=10)')\n",
    "plt.xlabel('x')\n",
    "plt.ylabel('Probability Density')\n",
    "plt.title('Student\\'s t-distribution (df=10)')\n",
    "plt.legend(loc='best')\n",
    "plt.grid(True)\n",
    "plt.show()\n"
   ]
  },
  {
   "cell_type": "code",
   "execution_count": null,
   "id": "6340a07b-d2aa-47dc-9c9c-33eb2c81243c",
   "metadata": {},
   "outputs": [],
   "source": [
    "#Ans 10:\n",
    "from scipy.stats import ttest_ind\n",
    "\n",
    "def two_sample_t_test(sample1, sample2):\n",
    "    t_statistic, p_value = ttest_ind(sample1, sample2)\n",
    "    return t_statistic, p_value\n",
    "\n",
    "# Example usage:\n",
    "sample1 = [85, 90, 88, 92, 87]\n",
    "sample2 = [78, 82, 80, 85, 81]\n",
    "t_statistic, p_value = two_sample_t_test(sample1, sample2)\n",
    "print(\"t-statistic:\", t_statistic)\n",
    "print(\"p-value:\", p_value)"
   ]
  },
  {
   "cell_type": "code",
   "execution_count": null,
   "id": "34f3c229-2840-4f72-826f-4c11dce16ed5",
   "metadata": {},
   "outputs": [],
   "source": [
    "#Ans 11:\n",
    "'''\n",
    "Student's t-distribution: The Student's t-distribution is a probability distribution that is similar\n",
    "to the normal distribution but has heavier tails. It is used when the sample size is small and the population standard deviation is unknown. \n",
    "It is commonly used in hypothesis testing and constructing confidence intervals for the population mean when the sample size is small.\n",
    "\n",
    "'''"
   ]
  },
  {
   "cell_type": "code",
   "execution_count": null,
   "id": "dc4015e4-229e-4a9f-9c77-35a1143f45ab",
   "metadata": {},
   "outputs": [],
   "source": [
    "#Ans 12:\n",
    "'''\n",
    "t-statistic: The t-statistic is a measure used in hypothesis testing to determine the difference between\n",
    "the sample mean and the population mean, taking into account the variability in the sample data. It is calculated using the formula:\n",
    "\n",
    "The t-statistic measures how many standard errors the sample mean is away \n",
    "from the population mean, accounting for the uncertainty due to the variability in the sample data.\n",
    "'''"
   ]
  },
  {
   "attachments": {
    "b141bb5c-4e73-482c-92fd-c003611ca0f4.webp": {
     "image/webp": "[encoded data removed]"
    }
   },
   "cell_type": "markdown",
   "id": "d5f02cfd-b494-4a07-b047-471afb3c60c5",
   "metadata": {},
   "source": [
    "![T-Test-Formula.webp](attachment:b141bb5c-4e73-482c-92fd-c003611ca0f4.webp)"
   ]
  },
  {
   "cell_type": "code",
   "execution_count": null,
   "id": "786edd69-7648-4277-894e-00addf8e2da6",
   "metadata": {},
   "outputs": [],
   "source": [
    "#Ans 13:\n",
    "import math\n",
    "\n",
    "# Given data\n",
    "sample_mean = 500\n",
    "sample_std_dev = 50\n",
    "sample_size = 50\n",
    "confidence_level = 0.95\n",
    "\n",
    "# Calculate the margin of error\n",
    "margin_of_error = 1.96 * (sample_std_dev / math.sqrt(sample_size))\n",
    "\n",
    "# Calculate the confidence interval\n",
    "lower_bound = sample_mean - margin_of_error\n",
    "upper_bound = sample_mean + margin_of_error\n",
    "\n",
    "print(\"Estimated population mean revenue with a 95% confidence interval: (${:.2f}, ${:.2f})\".format(lower_bound, upper_bound))"
   ]
  },
  {
   "cell_type": "code",
   "execution_count": null,
   "id": "2488dc80-88d7-4499-bbac-731391f777cd",
   "metadata": {},
   "outputs": [],
   "source": [
    "#Ans 14:\n",
    "from scipy.stats import t\n",
    "\n",
    "# Given data\n",
    "sample_mean = 8\n",
    "population_mean = 10\n",
    "sample_std_dev = 3\n",
    "sample_size = 100\n",
    "significance_level = 0.05\n",
    "\n",
    "# Calculate the t-statistic\n",
    "t_statistic = (sample_mean - population_mean) / (sample_std_dev / (sample_size ** 0.5))\n",
    "\n",
    "# Calculate the critical value\n",
    "critical_value = t.ppf(1 - significance_level, df=sample_size - 1)\n",
    "\n",
    "# Compare t-statistic with critical value\n",
    "if t_statistic < -critical_value or t_statistic > critical_value:\n",
    "    print(\"Reject the null hypothesis\")\n",
    "else:\n",
    "    print(\"Fail to reject the null hypothesis\")\n"
   ]
  },
  {
   "cell_type": "code",
   "execution_count": null,
   "id": "d8c42cca-84b0-4f93-875a-fa9146917dec",
   "metadata": {},
   "outputs": [],
   "source": [
    "#ANS 15:\n",
    "from scipy.stats import t\n",
    "\n",
    "# Given data\n",
    "sample_mean = 4.8\n",
    "population_mean = 5\n",
    "sample_std_dev = 0.5\n",
    "sample_size = 25\n",
    "significance_level = 0.01\n",
    "\n",
    "# Calculate the t-statistic\n",
    "t_statistic = (sample_mean - population_mean) / (sample_std_dev / (sample_size ** 0.5))\n",
    "\n",
    "# Calculate the critical value\n",
    "critical_value = t.ppf(significance_level, df=sample_size - 1)\n",
    "\n",
    "# Compare t-statistic with critical value\n",
    "if t_statistic < -critical_value:\n",
    "    print(\"Reject the null hypothesis\")\n",
    "else:\n",
    "    print(\"Fail to reject the null hypothesis\")\n"
   ]
  },
  {
   "cell_type": "code",
   "execution_count": null,
   "id": "ae8294dd-e0b7-4dbe-84c3-0c8ffa5d1905",
   "metadata": {},
   "outputs": [],
   "source": [
    "#ANs 16:\n",
    "from scipy.stats import ttest_ind\n",
    "\n",
    "# Given data\n",
    "sample_mean1 = 80\n",
    "sample_std_dev1 = 10\n",
    "sample_size1 = 30\n",
    "sample_mean2 = 75\n",
    "sample_std_dev2 = 8\n",
    "sample_size2 = 40\n",
    "significance_level = 0.01\n",
    "\n",
    "# Conduct independent two-sample t-test\n",
    "t_statistic, p_value = ttest_ind([sample_mean1] * sample_size1, [sample_mean2] * sample_size2)\n",
    "\n",
    "# Compare p-value with significance level\n",
    "if p_value < significance_level:\n",
    "    print(\"Reject the null hypothesis\")\n",
    "else:\n",
    "    print(\"Fail to reject the null hypothesis\")\n"
   ]
  },
  {
   "cell_type": "code",
   "execution_count": null,
   "id": "b90a45f8-7ce4-42fc-a0e9-c51d3f9594a4",
   "metadata": {},
   "outputs": [],
   "source": [
    "#ANs 17:\n",
    "import math\n",
    "\n",
    "# Given data\n",
    "sample_mean = 4\n",
    "sample_std_dev = 1.5\n",
    "sample_size = 50\n",
    "confidence_level = 0.99\n",
    "\n",
    "# Calculate the margin of error\n",
    "margin_of_error = 2.576 * (sample_std_dev / math.sqrt(sample_size))  # Z-score for 99% confidence interval\n",
    "\n",
    "# Calculate the confidence interval\n",
    "lower_bound = sample_mean - margin_of_error\n",
    "upper_bound = sample_mean + margin_of_error\n",
    "\n",
    "print(\"Estimated population mean with a 99% confidence interval:\", (lower_bound, upper_bound))\n"
   ]
  },
  {
   "cell_type": "code",
   "execution_count": null,
   "id": "f044f7ba-1fc6-4fdd-9449-6cbcce9e2ffd",
   "metadata": {},
   "outputs": [],
   "source": []
  }
 ],
 "metadata": {
  "kernelspec": {
   "display_name": "Python 3 (ipykernel)",
   "language": "python",
   "name": "python3"
  },
  "language_info": {
   "codemirror_mode": {
    "name": "ipython",
    "version": 3
   },
   "file_extension": ".py",
   "mimetype": "text/x-python",
   "name": "python",
   "nbconvert_exporter": "python",
   "pygments_lexer": "ipython3",
   "version": "3.10.8"
  }
 },
 "nbformat": 4,
 "nbformat_minor": 5
}
